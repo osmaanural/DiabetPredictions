{
 "cells": [
  {
   "cell_type": "code",
   "execution_count": 1,
   "id": "5dc9e1c6",
   "metadata": {
    "_cell_guid": "b1076dfc-b9ad-4769-8c92-a6c4dae69d19",
    "_uuid": "8f2839f25d086af736a60e9eeb907d3b93b6e0e5",
    "execution": {
     "iopub.execute_input": "2024-10-07T17:28:23.565158Z",
     "iopub.status.busy": "2024-10-07T17:28:23.564740Z",
     "iopub.status.idle": "2024-10-07T17:28:24.397417Z",
     "shell.execute_reply": "2024-10-07T17:28:24.396118Z"
    },
    "papermill": {
     "duration": 0.845384,
     "end_time": "2024-10-07T17:28:24.400494",
     "exception": false,
     "start_time": "2024-10-07T17:28:23.555110",
     "status": "completed"
    },
    "tags": []
   },
   "outputs": [
    {
     "name": "stdout",
     "output_type": "stream",
     "text": [
      "/kaggle/input/diabetes/diabetes.csv\n"
     ]
    }
   ],
   "source": [
    "# This Python 3 environment comes with many helpful analytics libraries installed\n",
    "# It is defined by the kaggle/python Docker image: https://github.com/kaggle/docker-python\n",
    "# For example, here's several helpful packages to load\n",
    "\n",
    "import numpy as np # linear algebra\n",
    "import pandas as pd # data processing, CSV file I/O (e.g. pd.read_csv)\n",
    "\n",
    "# Input data files are available in the read-only \"../input/\" directory\n",
    "# For example, running this (by clicking run or pressing Shift+Enter) will list all files under the input directory\n",
    "\n",
    "import os\n",
    "for dirname, _, filenames in os.walk('/kaggle/input'):\n",
    "    for filename in filenames:\n",
    "        print(os.path.join(dirname, filename))\n",
    "\n",
    "# You can write up to 20GB to the current directory (/kaggle/working/) that gets preserved as output when you create a version using \"Save & Run All\" \n",
    "# You can also write temporary files to /kaggle/temp/, but they won't be saved outside of the current session"
   ]
  },
  {
   "cell_type": "markdown",
   "id": "55158351",
   "metadata": {
    "papermill": {
     "duration": 0.007198,
     "end_time": "2024-10-07T17:28:24.416714",
     "exception": false,
     "start_time": "2024-10-07T17:28:24.409516",
     "status": "completed"
    },
    "tags": []
   },
   "source": [
    "Veri seti ABD'deki Ulusal Diyabet-Sindirim-Böbrek Hastalıkları Enstitüleri'nde tutulan büyük veri setinin parçasıdır. ABD'deki\n",
    "Arizona Eyaleti'nin en büyük 5. şehri olan Phoenix şehrinde yaşayan 21 yaş ve üzerinde olan Pima Indian kadınları üzerinde\n",
    "yapılan diyabet araştırması için kullanılan verilerdir.\n",
    "Hedef değişken \"outcome\" olarak belirtilmiş olup; 1 diyabet test sonucunun pozitif oluşunu, 0 ise negatif oluşunu belirtmektedir."
   ]
  },
  {
   "cell_type": "code",
   "execution_count": null,
   "id": "44a307d4",
   "metadata": {
    "papermill": {
     "duration": 0.0071,
     "end_time": "2024-10-07T17:28:24.431303",
     "exception": false,
     "start_time": "2024-10-07T17:28:24.424203",
     "status": "completed"
    },
    "tags": []
   },
   "outputs": [],
   "source": []
  },
  {
   "cell_type": "code",
   "execution_count": 2,
   "id": "a3b10e06",
   "metadata": {
    "execution": {
     "iopub.execute_input": "2024-10-07T17:28:24.447876Z",
     "iopub.status.busy": "2024-10-07T17:28:24.447343Z",
     "iopub.status.idle": "2024-10-07T17:28:26.465747Z",
     "shell.execute_reply": "2024-10-07T17:28:26.464635Z"
    },
    "papermill": {
     "duration": 2.029885,
     "end_time": "2024-10-07T17:28:26.468563",
     "exception": false,
     "start_time": "2024-10-07T17:28:24.438678",
     "status": "completed"
    },
    "tags": []
   },
   "outputs": [],
   "source": [
    "import numpy as np\n",
    "import pandas as pd\n",
    "import seaborn as sns\n",
    "from matplotlib import pyplot as plt\n",
    "from datetime import date\n",
    "from sklearn.metrics import accuracy_score\n",
    "from sklearn.model_selection import train_test_split\n",
    "from sklearn.neighbors import LocalOutlierFactor\n",
    "from sklearn.preprocessing import MinMaxScaler, LabelEncoder, StandardScaler, RobustScaler"
   ]
  },
  {
   "cell_type": "code",
   "execution_count": 3,
   "id": "eac3fbb4",
   "metadata": {
    "execution": {
     "iopub.execute_input": "2024-10-07T17:28:26.486590Z",
     "iopub.status.busy": "2024-10-07T17:28:26.486009Z",
     "iopub.status.idle": "2024-10-07T17:28:26.492288Z",
     "shell.execute_reply": "2024-10-07T17:28:26.491147Z"
    },
    "papermill": {
     "duration": 0.017554,
     "end_time": "2024-10-07T17:28:26.494699",
     "exception": false,
     "start_time": "2024-10-07T17:28:26.477145",
     "status": "completed"
    },
    "tags": []
   },
   "outputs": [],
   "source": [
    "\n",
    "pd.set_option('display.max_columns', None)\n",
    "pd.set_option('display.max_rows', None)\n",
    "pd.set_option('display.float_format', lambda x: '%.3f' % x)\n",
    "pd.set_option('display.width', 500)\n"
   ]
  },
  {
   "cell_type": "markdown",
   "id": "dc494d26",
   "metadata": {
    "papermill": {
     "duration": 0.007001,
     "end_time": "2024-10-07T17:28:26.509187",
     "exception": false,
     "start_time": "2024-10-07T17:28:26.502186",
     "status": "completed"
    },
    "tags": []
   },
   "source": [
    "1- Veri setine genel bir bakış."
   ]
  },
  {
   "cell_type": "code",
   "execution_count": 4,
   "id": "0f4e7c93",
   "metadata": {
    "execution": {
     "iopub.execute_input": "2024-10-07T17:28:26.526146Z",
     "iopub.status.busy": "2024-10-07T17:28:26.525223Z",
     "iopub.status.idle": "2024-10-07T17:28:26.594831Z",
     "shell.execute_reply": "2024-10-07T17:28:26.593544Z"
    },
    "papermill": {
     "duration": 0.080996,
     "end_time": "2024-10-07T17:28:26.597460",
     "exception": false,
     "start_time": "2024-10-07T17:28:26.516464",
     "status": "completed"
    },
    "tags": []
   },
   "outputs": [
    {
     "name": "stdout",
     "output_type": "stream",
     "text": [
      "<class 'pandas.core.frame.DataFrame'>\n",
      "RangeIndex: 768 entries, 0 to 767\n",
      "Data columns (total 9 columns):\n",
      " #   Column                    Non-Null Count  Dtype  \n",
      "---  ------                    --------------  -----  \n",
      " 0   Pregnancies               768 non-null    int64  \n",
      " 1   Glucose                   768 non-null    int64  \n",
      " 2   BloodPressure             768 non-null    int64  \n",
      " 3   SkinThickness             768 non-null    int64  \n",
      " 4   Insulin                   768 non-null    int64  \n",
      " 5   BMI                       768 non-null    float64\n",
      " 6   DiabetesPedigreeFunction  768 non-null    float64\n",
      " 7   Age                       768 non-null    int64  \n",
      " 8   Outcome                   768 non-null    int64  \n",
      "dtypes: float64(2), int64(7)\n",
      "memory usage: 54.1 KB\n",
      "Sütun Adı: Pregnancies \n",
      "Benzersiz Değer Sayısı : 17\n",
      "Sütun Adı: Glucose \n",
      "Benzersiz Değer Sayısı : 136\n",
      "Sütun Adı: BloodPressure \n",
      "Benzersiz Değer Sayısı : 47\n",
      "Sütun Adı: SkinThickness \n",
      "Benzersiz Değer Sayısı : 51\n",
      "Sütun Adı: Insulin \n",
      "Benzersiz Değer Sayısı : 186\n",
      "Sütun Adı: BMI \n",
      "Benzersiz Değer Sayısı : 248\n",
      "Sütun Adı: DiabetesPedigreeFunction \n",
      "Benzersiz Değer Sayısı : 517\n",
      "Sütun Adı: Age \n",
      "Benzersiz Değer Sayısı : 52\n",
      "Sütun Adı: Outcome \n",
      "Benzersiz Değer Sayısı : 2\n"
     ]
    }
   ],
   "source": [
    "\n",
    "df=pd.read_csv(\"/kaggle/input/diabetes/diabetes.csv\")\n",
    "df.head()\n",
    "df.info()   ## int ve float türünde veriler mevcut. Hedef değişkenimiz Outcome.\n",
    "df.shape  ## 768  gözlem ve 9 feature mevcut.\n",
    "df.describe().T\n",
    "\n",
    "for col in df.columns:\n",
    "    print(f\"Sütun Adı: {df[col].name} \\n\"\n",
    "          f\"Benzersiz Değer Sayısı : {df[col].nunique()}\")"
   ]
  },
  {
   "cell_type": "markdown",
   "id": "cfafd02a",
   "metadata": {
    "papermill": {
     "duration": 0.007991,
     "end_time": "2024-10-07T17:28:26.613163",
     "exception": false,
     "start_time": "2024-10-07T17:28:26.605172",
     "status": "completed"
    },
    "tags": []
   },
   "source": [
    "2- Numerik ve Kategorik Değişkenler "
   ]
  },
  {
   "cell_type": "code",
   "execution_count": 5,
   "id": "83b2faaa",
   "metadata": {
    "execution": {
     "iopub.execute_input": "2024-10-07T17:28:26.630619Z",
     "iopub.status.busy": "2024-10-07T17:28:26.630193Z",
     "iopub.status.idle": "2024-10-07T17:28:26.643255Z",
     "shell.execute_reply": "2024-10-07T17:28:26.641980Z"
    },
    "papermill": {
     "duration": 0.02436,
     "end_time": "2024-10-07T17:28:26.645525",
     "exception": false,
     "start_time": "2024-10-07T17:28:26.621165",
     "status": "completed"
    },
    "tags": []
   },
   "outputs": [
    {
     "name": "stdout",
     "output_type": "stream",
     "text": [
      "Observation: 768\n",
      "Variables: 9\n",
      "cat_cols: 1\n",
      "num_cols: 8\n",
      "cat_but_car: 0\n",
      "num_but_cat: 1\n"
     ]
    }
   ],
   "source": [
    "\n",
    "def grab_col_names(dataframe,cat_th=10,car_th=20):\n",
    "    cat_cols=[col for col in dataframe.columns if dataframe[col].dtypes == \"0\"]  ## Özellik tipi object ise cat_cols olarak alır.\n",
    "    num_but_cat = [col for col in dataframe.columns if dataframe[col].nunique() < cat_th and\n",
    "                   dataframe[col].dtypes != \"O\"]   #benzersiz değeri 10'un altında ve tipi object değil ise bu değerleerde categorik olarak alınır.\n",
    "\n",
    "\n",
    "    cat_but_car = [col for col in dataframe.columns if dataframe[col].nunique()>car_th and\n",
    "             dataframe[col].dtypes==\"O\"] # Özellik tip object fakat benzersiz değeri 20'den fazla ise bu değerler kardinal değerler olarak geçer. Veri setimizin değerini etkielyecek özellikte değildir.\n",
    "    # Mesela hastaların adı olabilir.\n",
    "\n",
    "    cat_cols=cat_cols + num_but_cat\n",
    "    cat_cols=[col for col in cat_cols if col not in cat_but_car]\n",
    "\n",
    "    #num_cols\n",
    "    num_cols=[col for col in dataframe.columns if dataframe[col].dtypes != \"O\"]\n",
    "    num_cols= [col for col in num_cols if col not in num_but_cat]\n",
    "\n",
    "\n",
    "    print(f\"Observation: {dataframe.shape[0]}\")\n",
    "    print(f\"Variables: {dataframe.shape[1]}\")\n",
    "    print(f\"cat_cols: {len(cat_cols)}\")\n",
    "    print(f\"num_cols: {len(num_cols)}\")\n",
    "    print(f\"cat_but_car: {len(cat_but_car)}\")\n",
    "    print(f\"num_but_cat: {len(num_but_cat)}\")\n",
    "    return cat_cols,num_cols,cat_but_car\n",
    "cat_cols,num_cols,cat_but_car=grab_col_names(df)\n"
   ]
  },
  {
   "cell_type": "markdown",
   "id": "e78494f8",
   "metadata": {
    "papermill": {
     "duration": 0.007319,
     "end_time": "2024-10-07T17:28:26.660442",
     "exception": false,
     "start_time": "2024-10-07T17:28:26.653123",
     "status": "completed"
    },
    "tags": []
   },
   "source": [
    "3- Hedef değişkenin diğer değişkenler ile  analizi"
   ]
  },
  {
   "cell_type": "markdown",
   "id": "1adf0d78",
   "metadata": {
    "papermill": {
     "duration": 0.007319,
     "end_time": "2024-10-07T17:28:26.675379",
     "exception": false,
     "start_time": "2024-10-07T17:28:26.668060",
     "status": "completed"
    },
    "tags": []
   },
   "source": []
  },
  {
   "cell_type": "code",
   "execution_count": 6,
   "id": "989566d2",
   "metadata": {
    "execution": {
     "iopub.execute_input": "2024-10-07T17:28:26.692173Z",
     "iopub.status.busy": "2024-10-07T17:28:26.691756Z",
     "iopub.status.idle": "2024-10-07T17:28:26.711232Z",
     "shell.execute_reply": "2024-10-07T17:28:26.709745Z"
    },
    "papermill": {
     "duration": 0.031343,
     "end_time": "2024-10-07T17:28:26.714194",
     "exception": false,
     "start_time": "2024-10-07T17:28:26.682851",
     "status": "completed"
    },
    "tags": []
   },
   "outputs": [
    {
     "name": "stdout",
     "output_type": "stream",
     "text": [
      "         Pregnancies  Insulin  Glucose  BloodPressure  SkinThickness    BMI  DiabetesPedigreeFunction    Age\n",
      "Outcome                                                                                                     \n",
      "0              3.298   68.792  109.980         68.184         19.664 30.304                     0.430 31.190\n",
      "1              4.866  100.336  141.257         70.825         22.164 35.143                     0.550 37.067\n"
     ]
    }
   ],
   "source": [
    "\n",
    "result = df.groupby(\"Outcome\").agg({\n",
    "    \"Pregnancies\": \"mean\",\n",
    "    \"Insulin\": \"mean\",\n",
    "    \"Glucose\": \"mean\",\n",
    "    \"BloodPressure\": \"mean\",\n",
    "    \"SkinThickness\": \"mean\",\n",
    "    \"BMI\": \"mean\",\n",
    "    \"DiabetesPedigreeFunction\": \"mean\",\n",
    "    \"Age\": \"mean\"\n",
    "})\n",
    "print(result)"
   ]
  },
  {
   "cell_type": "markdown",
   "id": "bb4ad7e6",
   "metadata": {
    "papermill": {
     "duration": 0.007854,
     "end_time": "2024-10-07T17:28:26.731085",
     "exception": false,
     "start_time": "2024-10-07T17:28:26.723231",
     "status": "completed"
    },
    "tags": []
   },
   "source": [
    "4- Aykırı gözlem analizi.\n",
    "Eşik noktası belirlenir.\n",
    "Aykırı değer var mı yok mu kontrol edilir."
   ]
  },
  {
   "cell_type": "code",
   "execution_count": 7,
   "id": "249835ad",
   "metadata": {
    "execution": {
     "iopub.execute_input": "2024-10-07T17:28:26.752223Z",
     "iopub.status.busy": "2024-10-07T17:28:26.751441Z",
     "iopub.status.idle": "2024-10-07T17:28:26.791837Z",
     "shell.execute_reply": "2024-10-07T17:28:26.790092Z"
    },
    "papermill": {
     "duration": 0.052752,
     "end_time": "2024-10-07T17:28:26.794693",
     "exception": false,
     "start_time": "2024-10-07T17:28:26.741941",
     "status": "completed"
    },
    "tags": []
   },
   "outputs": [
    {
     "name": "stdout",
     "output_type": "stream",
     "text": [
      "Pregnancies : True\n",
      "Glucose : True\n",
      "BloodPressure : True\n",
      "SkinThickness : True\n",
      "Insulin : True\n",
      "BMI : True\n",
      "DiabetesPedigreeFunction : True\n",
      "Age : True\n",
      "Outcome : False\n"
     ]
    }
   ],
   "source": [
    "\n",
    "def outlier_thresholds(dataframe,col_name,q1=0.25,q3=0.75): ## Alt ve üst eşik değeri hesaplamak için kullanırız.\n",
    "    quartile1=dataframe[col_name].quantile(q1) ## Her sütunun çeyreklik değerini belirler.\n",
    "    quartile3=dataframe[col_name].quantile(q3)\n",
    "    iqr=quartile3 - quartile1  ## Çeyrekler arası farkı gösterir.\n",
    "    up_limit=quartile3 + 1.5*iqr  # Üt limiti belirleriz.Bu değerin üstündekiler aykırı değerler.\n",
    "    low_limit= quartile1 - 1.5 *iqr  #Alt limiti belirleriz. Bu değerin altındaki değerler aykırı değerlerdir.\n",
    "    return low_limit,up_limit\n",
    "\n",
    "def check_outlier(dataframe,col_name): #Aykırı değer içerip içermediğini kontrol eder.\n",
    "    low_limit,up_limit=outlier_thresholds(dataframe,col_name) # Alt ve üst limit değerini alır.\n",
    "    if dataframe[(dataframe[col_name] >up_limit) | (dataframe[col_name]<low_limit)].any(axis=None):  # ALt limitin altında veya üst limitin üstünde olan değer var mı ona bakar.\n",
    "        #Eğer var ise true döndürür yok ise false döndürür.\n",
    "        return True\n",
    "    else:\n",
    "        return False\n",
    "\n",
    "for col in df.columns:\n",
    "    print(col,\":\",check_outlier(df,col))\n"
   ]
  },
  {
   "cell_type": "markdown",
   "id": "91300d9f",
   "metadata": {
    "papermill": {
     "duration": 0.011495,
     "end_time": "2024-10-07T17:28:26.817992",
     "exception": false,
     "start_time": "2024-10-07T17:28:26.806497",
     "status": "completed"
    },
    "tags": []
   },
   "source": [
    "5- Eksik gözlemlerin analizi.\n",
    "dipnot: NaN ve \"?\" olmaması eksik değer olmadığı anlamına gelmez. Veri setine çıplak gözle bakmak gerekir.\n",
    "Bir insanın kan şekeri veya tansiyonu 0 olamaz. 0 ise hasta ölmüştür demektir.\n"
   ]
  },
  {
   "cell_type": "code",
   "execution_count": 8,
   "id": "073f8b51",
   "metadata": {
    "execution": {
     "iopub.execute_input": "2024-10-07T17:28:26.839456Z",
     "iopub.status.busy": "2024-10-07T17:28:26.838941Z",
     "iopub.status.idle": "2024-10-07T17:28:39.331803Z",
     "shell.execute_reply": "2024-10-07T17:28:39.330352Z"
    },
    "papermill": {
     "duration": 12.505307,
     "end_time": "2024-10-07T17:28:39.334133",
     "exception": false,
     "start_time": "2024-10-07T17:28:26.828826",
     "status": "completed"
    },
    "tags": []
   },
   "outputs": [
    {
     "name": "stdout",
     "output_type": "stream",
     "text": [
      "Requirement already satisfied: prettyTable in /opt/conda/lib/python3.10/site-packages (3.10.0)\r\n",
      "Requirement already satisfied: wcwidth in /opt/conda/lib/python3.10/site-packages (from prettyTable) (0.2.13)\r\n",
      "Note: you may need to restart the kernel to use updated packages.\n"
     ]
    }
   ],
   "source": [
    "pip install prettyTable"
   ]
  },
  {
   "cell_type": "code",
   "execution_count": 9,
   "id": "97e2179c",
   "metadata": {
    "execution": {
     "iopub.execute_input": "2024-10-07T17:28:39.353343Z",
     "iopub.status.busy": "2024-10-07T17:28:39.352082Z",
     "iopub.status.idle": "2024-10-07T17:28:39.395748Z",
     "shell.execute_reply": "2024-10-07T17:28:39.394662Z"
    },
    "papermill": {
     "duration": 0.056079,
     "end_time": "2024-10-07T17:28:39.398237",
     "exception": false,
     "start_time": "2024-10-07T17:28:39.342158",
     "status": "completed"
    },
    "tags": []
   },
   "outputs": [
    {
     "name": "stdout",
     "output_type": "stream",
     "text": [
      "+--------------------------+----------------+--------------------+\n",
      "|       Column Name        | Missing Values | Missing Percentage |\n",
      "+--------------------------+----------------+--------------------+\n",
      "|       Pregnancies        |       0        |       0.00%        |\n",
      "|         Glucose          |       0        |       0.00%        |\n",
      "|      BloodPressure       |       0        |       0.00%        |\n",
      "|      SkinThickness       |       0        |       0.00%        |\n",
      "|         Insulin          |       0        |       0.00%        |\n",
      "|           BMI            |       0        |       0.00%        |\n",
      "| DiabetesPedigreeFunction |       0        |       0.00%        |\n",
      "|           Age            |       0        |       0.00%        |\n",
      "|         Outcome          |       0        |       0.00%        |\n",
      "+--------------------------+----------------+--------------------+\n"
     ]
    }
   ],
   "source": [
    "\n",
    "df.isnull().sum()\n",
    "\n",
    "\n",
    "from prettytable import PrettyTable\n",
    "\n",
    "# PrettyTable ile tablo oluşturma\n",
    "t = PrettyTable(['Column Name', 'Missing Values', 'Missing Percentage'])\n",
    "\n",
    "# Her sütun için eksik değerleri kontrol etme\n",
    "for col in df.columns:\n",
    "    # NaN değerlerini ve '?' sembolüyle işaretlenen eksik verileri sayma\n",
    "    missing_count = df[col].isna().sum() + (df[col] == '?').sum()\n",
    "\n",
    "    # Eksik değer yüzdesi\n",
    "    missing_percentage = (missing_count / len(df)) * 100\n",
    "\n",
    "    # Tabloya satır ekleme\n",
    "    t.add_row([col, missing_count, f\"{missing_percentage:.2f}%\"])\n",
    "\n",
    "print(t)"
   ]
  },
  {
   "cell_type": "markdown",
   "id": "19f1c28a",
   "metadata": {
    "papermill": {
     "duration": 0.007947,
     "end_time": "2024-10-07T17:28:39.414392",
     "exception": false,
     "start_time": "2024-10-07T17:28:39.406445",
     "status": "completed"
    },
    "tags": []
   },
   "source": [
    "6- Korelasyon Analizi \n",
    "Sütunların birbiri ile ilişkilerini inceler. pozitif yada negatif yönlğ bir ilişki var mı yok mu onu ifade eder."
   ]
  },
  {
   "cell_type": "code",
   "execution_count": 10,
   "id": "ca396214",
   "metadata": {
    "execution": {
     "iopub.execute_input": "2024-10-07T17:28:39.433137Z",
     "iopub.status.busy": "2024-10-07T17:28:39.431950Z",
     "iopub.status.idle": "2024-10-07T17:28:40.119492Z",
     "shell.execute_reply": "2024-10-07T17:28:40.118361Z"
    },
    "papermill": {
     "duration": 0.699541,
     "end_time": "2024-10-07T17:28:40.121950",
     "exception": false,
     "start_time": "2024-10-07T17:28:39.422409",
     "status": "completed"
    },
    "tags": []
   },
   "outputs": [
    {
     "name": "stdout",
     "output_type": "stream",
     "text": [
      "                          Pregnancies  Glucose  BloodPressure  SkinThickness  Insulin   BMI  DiabetesPedigreeFunction    Age  Outcome\n",
      "Pregnancies                     1.000    0.129          0.141         -0.082   -0.074 0.018                    -0.034  0.544    0.222\n",
      "Glucose                         0.129    1.000          0.153          0.057    0.331 0.221                     0.137  0.264    0.467\n",
      "BloodPressure                   0.141    0.153          1.000          0.207    0.089 0.282                     0.041  0.240    0.065\n",
      "SkinThickness                  -0.082    0.057          0.207          1.000    0.437 0.393                     0.184 -0.114    0.075\n",
      "Insulin                        -0.074    0.331          0.089          0.437    1.000 0.198                     0.185 -0.042    0.131\n",
      "BMI                             0.018    0.221          0.282          0.393    0.198 1.000                     0.141  0.036    0.293\n",
      "DiabetesPedigreeFunction       -0.034    0.137          0.041          0.184    0.185 0.141                     1.000  0.034    0.174\n",
      "Age                             0.544    0.264          0.240         -0.114   -0.042 0.036                     0.034  1.000    0.238\n",
      "Outcome                         0.222    0.467          0.065          0.075    0.131 0.293                     0.174  0.238    1.000\n"
     ]
    },
    {
     "data": {
      "text/plain": [
       "<Axes: >"
      ]
     },
     "execution_count": 10,
     "metadata": {},
     "output_type": "execute_result"
    },
    {
     "data": {
      "image/png": "[encoded data removed]",
      "text/plain": [
       "<Figure size 1000x800 with 2 Axes>"
      ]
     },
     "metadata": {},
     "output_type": "display_data"
    }
   ],
   "source": [
    "import seaborn as sns\n",
    "import matplotlib.pyplot as plt\n",
    "\n",
    "plt.show()\n",
    "cor= df.corr()\n",
    "print(cor)\n",
    "\n",
    "plt.figure(figsize=(10, 8))\n",
    "sns.heatmap(cor, annot=True, cmap=\"coolwarm\", linewidths=0.5)\n"
   ]
  },
  {
   "cell_type": "markdown",
   "id": "06a08148",
   "metadata": {
    "papermill": {
     "duration": 0.009568,
     "end_time": "2024-10-07T17:28:40.141715",
     "exception": false,
     "start_time": "2024-10-07T17:28:40.132147",
     "status": "completed"
    },
    "tags": []
   },
   "source": [
    "7- 0 olan değerler olduğu için o değerler boş değer olarak kabul etmek gerekir. Çünkü hastanın kan şekeri 0 olamaz. Bu yüzden 0 yerine NaN ifadesini yazmamız gerekmektedir."
   ]
  },
  {
   "cell_type": "code",
   "execution_count": 11,
   "id": "c5ed574a",
   "metadata": {
    "execution": {
     "iopub.execute_input": "2024-10-07T17:28:40.163328Z",
     "iopub.status.busy": "2024-10-07T17:28:40.162873Z",
     "iopub.status.idle": "2024-10-07T17:28:40.181216Z",
     "shell.execute_reply": "2024-10-07T17:28:40.180078Z"
    },
    "papermill": {
     "duration": 0.032027,
     "end_time": "2024-10-07T17:28:40.183468",
     "exception": false,
     "start_time": "2024-10-07T17:28:40.151441",
     "status": "completed"
    },
    "tags": []
   },
   "outputs": [
    {
     "name": "stdout",
     "output_type": "stream",
     "text": [
      "+--------------------------+----------------+--------------------+\n",
      "|       Column Name        | Missing Values | Missing Percentage |\n",
      "+--------------------------+----------------+--------------------+\n",
      "|       Pregnancies        |       0        |       0.00%        |\n",
      "|         Glucose          |       5        |       0.65%        |\n",
      "|      BloodPressure       |       35       |       4.56%        |\n",
      "|      SkinThickness       |      227       |       29.56%       |\n",
      "|         Insulin          |      374       |       48.70%       |\n",
      "|           BMI            |       11       |       1.43%        |\n",
      "| DiabetesPedigreeFunction |       0        |       0.00%        |\n",
      "|           Age            |       0        |       0.00%        |\n",
      "|         Outcome          |       0        |       0.00%        |\n",
      "+--------------------------+----------------+--------------------+\n"
     ]
    }
   ],
   "source": [
    "\n",
    "\n",
    "for col in df.columns:\n",
    "    if col in [\"Outcome\", \"Pregnancies\"]:\n",
    "        continue\n",
    "    else:\n",
    "        df[col] = df[col].replace(0, np.nan)\n",
    "\n",
    "\n",
    "df.isnull().sum()\n",
    "t1 = PrettyTable(['Column Name', 'Missing Values', 'Missing Percentage'])\n",
    "for col in df.columns:\n",
    "    #\n",
    "    missing_count = df[col].isna().sum()\n",
    "\n",
    "    # Eksik değer yüzdesi\n",
    "    missing_percentage = (missing_count / len(df)) * 100\n",
    "\n",
    "    # Tabloya satır ekleme\n",
    "    t1.add_row([col, missing_count, f\"{missing_percentage:.2f}%\"])\n",
    "\n",
    "print(t1)\n"
   ]
  },
  {
   "cell_type": "markdown",
   "id": "088e87ed",
   "metadata": {
    "papermill": {
     "duration": 0.009672,
     "end_time": "2024-10-07T17:28:40.203227",
     "exception": false,
     "start_time": "2024-10-07T17:28:40.193555",
     "status": "completed"
    },
    "tags": []
   },
   "source": [
    "8- Eksik olan değerleri doldurmak gerekir.\n",
    "Mod,median yöntemi ile doldurabiliriz. Yada değer atama yöntemi kullanabiliriz.\n",
    "Eğer eksik değerler %80'den fazla ise silme yöntemi de uygulayabiliriz.\n",
    "Veri setine göre yapacağımız işlem değişebilir. "
   ]
  },
  {
   "cell_type": "code",
   "execution_count": 12,
   "id": "5b1d2bbe",
   "metadata": {
    "execution": {
     "iopub.execute_input": "2024-10-07T17:28:40.225589Z",
     "iopub.status.busy": "2024-10-07T17:28:40.224567Z",
     "iopub.status.idle": "2024-10-07T17:28:40.243561Z",
     "shell.execute_reply": "2024-10-07T17:28:40.242417Z"
    },
    "papermill": {
     "duration": 0.032585,
     "end_time": "2024-10-07T17:28:40.245878",
     "exception": false,
     "start_time": "2024-10-07T17:28:40.213293",
     "status": "completed"
    },
    "tags": []
   },
   "outputs": [
    {
     "data": {
      "text/plain": [
       "Pregnancies                 0\n",
       "Glucose                     0\n",
       "BloodPressure               0\n",
       "SkinThickness               0\n",
       "Insulin                     0\n",
       "BMI                         0\n",
       "DiabetesPedigreeFunction    0\n",
       "Age                         0\n",
       "Outcome                     0\n",
       "dtype: int64"
      ]
     },
     "execution_count": 12,
     "metadata": {},
     "output_type": "execute_result"
    }
   ],
   "source": [
    "df=df.apply(lambda x: x.fillna(x.mode()[0]) if x.dtype not in ['object', 'category'] else x, axis=0)  # eksik değerleri ortalama ile doldururuz.\n",
    "df.isnull().sum()"
   ]
  },
  {
   "cell_type": "markdown",
   "id": "b00cc88f",
   "metadata": {
    "papermill": {
     "duration": 0.010349,
     "end_time": "2024-10-07T17:28:40.266648",
     "exception": false,
     "start_time": "2024-10-07T17:28:40.256299",
     "status": "completed"
    },
    "tags": []
   },
   "source": [
    "9- Veri setine yeni sütunlar ekleyebiliriz. Mesela BMI değerlerini gruplandırarak yeni bir sütun oluşturulabilir. Bu sütunlar zayıf,normal,fazla kilolu ve obez şeklinde olabilir.\n",
    "Aynı şekilde yaş değişkeninede yapılabilir."
   ]
  },
  {
   "cell_type": "code",
   "execution_count": 13,
   "id": "517243ed",
   "metadata": {
    "execution": {
     "iopub.execute_input": "2024-10-07T17:28:40.288831Z",
     "iopub.status.busy": "2024-10-07T17:28:40.288141Z",
     "iopub.status.idle": "2024-10-07T17:28:40.320292Z",
     "shell.execute_reply": "2024-10-07T17:28:40.318706Z"
    },
    "papermill": {
     "duration": 0.046142,
     "end_time": "2024-10-07T17:28:40.322939",
     "exception": false,
     "start_time": "2024-10-07T17:28:40.276797",
     "status": "completed"
    },
    "tags": []
   },
   "outputs": [
    {
     "name": "stderr",
     "output_type": "stream",
     "text": [
      "/tmp/ipykernel_17/1306814102.py:4: FutureWarning: The default of observed=False is deprecated and will be changed to True in a future version of pandas. Pass observed=False to retain current behavior or observed=True to adopt the future default and silence this warning.\n",
      "  df.groupby(\"age_group\")[\"Outcome\"].mean()\n",
      "/tmp/ipykernel_17/1306814102.py:10: FutureWarning: The default of observed=False is deprecated and will be changed to True in a future version of pandas. Pass observed=False to retain current behavior or observed=True to adopt the future default and silence this warning.\n",
      "  df.groupby(\"BMI_Category\")[\"Outcome\"].mean()\n"
     ]
    },
    {
     "data": {
      "text/html": [
       "<div>\n",
       "<style scoped>\n",
       "    .dataframe tbody tr th:only-of-type {\n",
       "        vertical-align: middle;\n",
       "    }\n",
       "\n",
       "    .dataframe tbody tr th {\n",
       "        vertical-align: top;\n",
       "    }\n",
       "\n",
       "    .dataframe thead th {\n",
       "        text-align: right;\n",
       "    }\n",
       "</style>\n",
       "<table border=\"1\" class=\"dataframe\">\n",
       "  <thead>\n",
       "    <tr style=\"text-align: right;\">\n",
       "      <th></th>\n",
       "      <th>Pregnancies</th>\n",
       "      <th>Glucose</th>\n",
       "      <th>BloodPressure</th>\n",
       "      <th>SkinThickness</th>\n",
       "      <th>Insulin</th>\n",
       "      <th>BMI</th>\n",
       "      <th>DiabetesPedigreeFunction</th>\n",
       "      <th>Age</th>\n",
       "      <th>Outcome</th>\n",
       "      <th>age_group</th>\n",
       "      <th>BMI_Category</th>\n",
       "      <th>Pregnancy_Category</th>\n",
       "    </tr>\n",
       "  </thead>\n",
       "  <tbody>\n",
       "    <tr>\n",
       "      <th>0</th>\n",
       "      <td>6</td>\n",
       "      <td>148.000</td>\n",
       "      <td>72.000</td>\n",
       "      <td>35.000</td>\n",
       "      <td>105.000</td>\n",
       "      <td>33.600</td>\n",
       "      <td>0.627</td>\n",
       "      <td>50</td>\n",
       "      <td>1</td>\n",
       "      <td>Çalışan Nüfus</td>\n",
       "      <td>Obesite</td>\n",
       "      <td>4-6</td>\n",
       "    </tr>\n",
       "    <tr>\n",
       "      <th>1</th>\n",
       "      <td>1</td>\n",
       "      <td>85.000</td>\n",
       "      <td>66.000</td>\n",
       "      <td>29.000</td>\n",
       "      <td>105.000</td>\n",
       "      <td>26.600</td>\n",
       "      <td>0.351</td>\n",
       "      <td>31</td>\n",
       "      <td>0</td>\n",
       "      <td>Çalışan Nüfus</td>\n",
       "      <td>Fazla Kilolu</td>\n",
       "      <td>0</td>\n",
       "    </tr>\n",
       "    <tr>\n",
       "      <th>2</th>\n",
       "      <td>8</td>\n",
       "      <td>183.000</td>\n",
       "      <td>64.000</td>\n",
       "      <td>32.000</td>\n",
       "      <td>105.000</td>\n",
       "      <td>23.300</td>\n",
       "      <td>0.672</td>\n",
       "      <td>32</td>\n",
       "      <td>1</td>\n",
       "      <td>Çalışan Nüfus</td>\n",
       "      <td>Normal</td>\n",
       "      <td>7+</td>\n",
       "    </tr>\n",
       "    <tr>\n",
       "      <th>3</th>\n",
       "      <td>1</td>\n",
       "      <td>89.000</td>\n",
       "      <td>66.000</td>\n",
       "      <td>23.000</td>\n",
       "      <td>94.000</td>\n",
       "      <td>28.100</td>\n",
       "      <td>0.167</td>\n",
       "      <td>21</td>\n",
       "      <td>0</td>\n",
       "      <td>Çalışan Nüfus</td>\n",
       "      <td>Fazla Kilolu</td>\n",
       "      <td>0</td>\n",
       "    </tr>\n",
       "    <tr>\n",
       "      <th>4</th>\n",
       "      <td>0</td>\n",
       "      <td>137.000</td>\n",
       "      <td>40.000</td>\n",
       "      <td>35.000</td>\n",
       "      <td>168.000</td>\n",
       "      <td>43.100</td>\n",
       "      <td>2.288</td>\n",
       "      <td>33</td>\n",
       "      <td>1</td>\n",
       "      <td>Çalışan Nüfus</td>\n",
       "      <td>Obesite</td>\n",
       "      <td>NaN</td>\n",
       "    </tr>\n",
       "  </tbody>\n",
       "</table>\n",
       "</div>"
      ],
      "text/plain": [
       "   Pregnancies  Glucose  BloodPressure  SkinThickness  Insulin    BMI  DiabetesPedigreeFunction  Age  Outcome      age_group  BMI_Category Pregnancy_Category\n",
       "0            6  148.000         72.000         35.000  105.000 33.600                     0.627   50        1  Çalışan Nüfus       Obesite                4-6\n",
       "1            1   85.000         66.000         29.000  105.000 26.600                     0.351   31        0  Çalışan Nüfus  Fazla Kilolu                  0\n",
       "2            8  183.000         64.000         32.000  105.000 23.300                     0.672   32        1  Çalışan Nüfus        Normal                 7+\n",
       "3            1   89.000         66.000         23.000   94.000 28.100                     0.167   21        0  Çalışan Nüfus  Fazla Kilolu                  0\n",
       "4            0  137.000         40.000         35.000  168.000 43.100                     2.288   33        1  Çalışan Nüfus       Obesite                NaN"
      ]
     },
     "execution_count": 13,
     "metadata": {},
     "output_type": "execute_result"
    }
   ],
   "source": [
    "\n",
    "# Yaş grubunu belirleme fonksiyonu\n",
    "\n",
    "df['age_group'] = pd.cut(df['Age'], bins=[0, 14,65,100], labels=['Çocuk', 'Çalışan Nüfus', 'Yaşlı'])\n",
    "df.groupby(\"age_group\")[\"Outcome\"].mean()\n",
    "\n",
    "\n",
    "\n",
    "# BMI'ye göre kategoriler oluşturma\n",
    "df['BMI_Category'] = pd.cut(df['BMI'], bins=[0, 18.5, 24.9, 29.9, 100], labels=['Zayıf', 'Normal', 'Fazla Kilolu', 'Obesite'])\n",
    "df.groupby(\"BMI_Category\")[\"Outcome\"].mean()\n",
    "\n",
    "# Gebelik sayısına göre kategoriler oluşturma\n",
    "df['Pregnancy_Category'] = pd.cut(df['Pregnancies'], bins=[0, 1, 3, 6, np.inf], labels=['0', '1-3', '4-6', '7+'])\n",
    "df.head()"
   ]
  },
  {
   "cell_type": "markdown",
   "id": "e15f8641",
   "metadata": {
    "papermill": {
     "duration": 0.010718,
     "end_time": "2024-10-07T17:28:40.344427",
     "exception": false,
     "start_time": "2024-10-07T17:28:40.333709",
     "status": "completed"
    },
    "tags": []
   },
   "source": [
    "10- Encoding işlemleri uygulama. Kategorik değişkenlere uygulanır.\n",
    "Label Encoding --> 2 farklı değer var ise yada aralarında bir üstünlük var ise kullanılır.\n",
    "One Hot Encodin --> Aralarında herhangi bir üstünlük yok ise kullanılabilir.\n"
   ]
  },
  {
   "cell_type": "code",
   "execution_count": 14,
   "id": "c034134c",
   "metadata": {
    "execution": {
     "iopub.execute_input": "2024-10-07T17:28:40.368146Z",
     "iopub.status.busy": "2024-10-07T17:28:40.367715Z",
     "iopub.status.idle": "2024-10-07T17:28:40.390333Z",
     "shell.execute_reply": "2024-10-07T17:28:40.389318Z"
    },
    "papermill": {
     "duration": 0.037137,
     "end_time": "2024-10-07T17:28:40.392789",
     "exception": false,
     "start_time": "2024-10-07T17:28:40.355652",
     "status": "completed"
    },
    "tags": []
   },
   "outputs": [
    {
     "data": {
      "text/html": [
       "<div>\n",
       "<style scoped>\n",
       "    .dataframe tbody tr th:only-of-type {\n",
       "        vertical-align: middle;\n",
       "    }\n",
       "\n",
       "    .dataframe tbody tr th {\n",
       "        vertical-align: top;\n",
       "    }\n",
       "\n",
       "    .dataframe thead th {\n",
       "        text-align: right;\n",
       "    }\n",
       "</style>\n",
       "<table border=\"1\" class=\"dataframe\">\n",
       "  <thead>\n",
       "    <tr style=\"text-align: right;\">\n",
       "      <th></th>\n",
       "      <th>Pregnancies</th>\n",
       "      <th>Glucose</th>\n",
       "      <th>BloodPressure</th>\n",
       "      <th>SkinThickness</th>\n",
       "      <th>Insulin</th>\n",
       "      <th>BMI</th>\n",
       "      <th>DiabetesPedigreeFunction</th>\n",
       "      <th>Age</th>\n",
       "      <th>Outcome</th>\n",
       "      <th>age_group</th>\n",
       "      <th>BMI_Category</th>\n",
       "      <th>Pregnancy_Category</th>\n",
       "    </tr>\n",
       "  </thead>\n",
       "  <tbody>\n",
       "    <tr>\n",
       "      <th>0</th>\n",
       "      <td>6</td>\n",
       "      <td>148.000</td>\n",
       "      <td>72.000</td>\n",
       "      <td>35.000</td>\n",
       "      <td>105.000</td>\n",
       "      <td>33.600</td>\n",
       "      <td>0.627</td>\n",
       "      <td>50</td>\n",
       "      <td>1</td>\n",
       "      <td>1</td>\n",
       "      <td>Obesite</td>\n",
       "      <td>4-6</td>\n",
       "    </tr>\n",
       "    <tr>\n",
       "      <th>1</th>\n",
       "      <td>1</td>\n",
       "      <td>85.000</td>\n",
       "      <td>66.000</td>\n",
       "      <td>29.000</td>\n",
       "      <td>105.000</td>\n",
       "      <td>26.600</td>\n",
       "      <td>0.351</td>\n",
       "      <td>31</td>\n",
       "      <td>0</td>\n",
       "      <td>1</td>\n",
       "      <td>Fazla Kilolu</td>\n",
       "      <td>0</td>\n",
       "    </tr>\n",
       "    <tr>\n",
       "      <th>2</th>\n",
       "      <td>8</td>\n",
       "      <td>183.000</td>\n",
       "      <td>64.000</td>\n",
       "      <td>32.000</td>\n",
       "      <td>105.000</td>\n",
       "      <td>23.300</td>\n",
       "      <td>0.672</td>\n",
       "      <td>32</td>\n",
       "      <td>1</td>\n",
       "      <td>1</td>\n",
       "      <td>Normal</td>\n",
       "      <td>7+</td>\n",
       "    </tr>\n",
       "    <tr>\n",
       "      <th>3</th>\n",
       "      <td>1</td>\n",
       "      <td>89.000</td>\n",
       "      <td>66.000</td>\n",
       "      <td>23.000</td>\n",
       "      <td>94.000</td>\n",
       "      <td>28.100</td>\n",
       "      <td>0.167</td>\n",
       "      <td>21</td>\n",
       "      <td>0</td>\n",
       "      <td>1</td>\n",
       "      <td>Fazla Kilolu</td>\n",
       "      <td>0</td>\n",
       "    </tr>\n",
       "    <tr>\n",
       "      <th>4</th>\n",
       "      <td>0</td>\n",
       "      <td>137.000</td>\n",
       "      <td>40.000</td>\n",
       "      <td>35.000</td>\n",
       "      <td>168.000</td>\n",
       "      <td>43.100</td>\n",
       "      <td>2.288</td>\n",
       "      <td>33</td>\n",
       "      <td>1</td>\n",
       "      <td>1</td>\n",
       "      <td>Obesite</td>\n",
       "      <td>NaN</td>\n",
       "    </tr>\n",
       "  </tbody>\n",
       "</table>\n",
       "</div>"
      ],
      "text/plain": [
       "   Pregnancies  Glucose  BloodPressure  SkinThickness  Insulin    BMI  DiabetesPedigreeFunction  Age  Outcome  age_group  BMI_Category Pregnancy_Category\n",
       "0            6  148.000         72.000         35.000  105.000 33.600                     0.627   50        1          1       Obesite                4-6\n",
       "1            1   85.000         66.000         29.000  105.000 26.600                     0.351   31        0          1  Fazla Kilolu                  0\n",
       "2            8  183.000         64.000         32.000  105.000 23.300                     0.672   32        1          1        Normal                 7+\n",
       "3            1   89.000         66.000         23.000   94.000 28.100                     0.167   21        0          1  Fazla Kilolu                  0\n",
       "4            0  137.000         40.000         35.000  168.000 43.100                     2.288   33        1          1       Obesite                NaN"
      ]
     },
     "execution_count": 14,
     "metadata": {},
     "output_type": "execute_result"
    }
   ],
   "source": [
    "# 2 değişkeni olankalr için uygulanır.\n",
    "def label_encoder(dataframe, binary_cols):\n",
    "    labelencoder = LabelEncoder()\n",
    "    for binary_col in binary_cols:\n",
    "        dataframe[binary_col] = labelencoder.fit_transform(dataframe[binary_col])\n",
    "    return dataframe\n",
    "\n",
    "\n",
    "binary_cols = [col for col in df.columns if df[col].dtype != [[int, float]]\n",
    "               and df[col].nunique() == 2]\n",
    "label_encoder(df,binary_cols)\n",
    "df.head()"
   ]
  },
  {
   "cell_type": "code",
   "execution_count": 15,
   "id": "883f27fd",
   "metadata": {
    "execution": {
     "iopub.execute_input": "2024-10-07T17:28:40.416631Z",
     "iopub.status.busy": "2024-10-07T17:28:40.415764Z",
     "iopub.status.idle": "2024-10-07T17:28:40.431383Z",
     "shell.execute_reply": "2024-10-07T17:28:40.430326Z"
    },
    "papermill": {
     "duration": 0.029647,
     "end_time": "2024-10-07T17:28:40.433514",
     "exception": false,
     "start_time": "2024-10-07T17:28:40.403867",
     "status": "completed"
    },
    "tags": []
   },
   "outputs": [
    {
     "data": {
      "text/html": [
       "<div>\n",
       "<style scoped>\n",
       "    .dataframe tbody tr th:only-of-type {\n",
       "        vertical-align: middle;\n",
       "    }\n",
       "\n",
       "    .dataframe tbody tr th {\n",
       "        vertical-align: top;\n",
       "    }\n",
       "\n",
       "    .dataframe thead th {\n",
       "        text-align: right;\n",
       "    }\n",
       "</style>\n",
       "<table border=\"1\" class=\"dataframe\">\n",
       "  <thead>\n",
       "    <tr style=\"text-align: right;\">\n",
       "      <th></th>\n",
       "      <th>Pregnancies</th>\n",
       "      <th>Glucose</th>\n",
       "      <th>BloodPressure</th>\n",
       "      <th>SkinThickness</th>\n",
       "      <th>Insulin</th>\n",
       "      <th>BMI</th>\n",
       "      <th>DiabetesPedigreeFunction</th>\n",
       "      <th>Age</th>\n",
       "      <th>Outcome</th>\n",
       "      <th>age_group</th>\n",
       "      <th>BMI_Category</th>\n",
       "      <th>Pregnancy_Category</th>\n",
       "    </tr>\n",
       "  </thead>\n",
       "  <tbody>\n",
       "    <tr>\n",
       "      <th>0</th>\n",
       "      <td>6</td>\n",
       "      <td>148.000</td>\n",
       "      <td>72.000</td>\n",
       "      <td>35.000</td>\n",
       "      <td>105.000</td>\n",
       "      <td>33.600</td>\n",
       "      <td>0.627</td>\n",
       "      <td>50</td>\n",
       "      <td>1</td>\n",
       "      <td>1</td>\n",
       "      <td>Obesite</td>\n",
       "      <td>2</td>\n",
       "    </tr>\n",
       "    <tr>\n",
       "      <th>1</th>\n",
       "      <td>1</td>\n",
       "      <td>85.000</td>\n",
       "      <td>66.000</td>\n",
       "      <td>29.000</td>\n",
       "      <td>105.000</td>\n",
       "      <td>26.600</td>\n",
       "      <td>0.351</td>\n",
       "      <td>31</td>\n",
       "      <td>0</td>\n",
       "      <td>1</td>\n",
       "      <td>Fazla Kilolu</td>\n",
       "      <td>0</td>\n",
       "    </tr>\n",
       "    <tr>\n",
       "      <th>2</th>\n",
       "      <td>8</td>\n",
       "      <td>183.000</td>\n",
       "      <td>64.000</td>\n",
       "      <td>32.000</td>\n",
       "      <td>105.000</td>\n",
       "      <td>23.300</td>\n",
       "      <td>0.672</td>\n",
       "      <td>32</td>\n",
       "      <td>1</td>\n",
       "      <td>1</td>\n",
       "      <td>Normal</td>\n",
       "      <td>3</td>\n",
       "    </tr>\n",
       "    <tr>\n",
       "      <th>3</th>\n",
       "      <td>1</td>\n",
       "      <td>89.000</td>\n",
       "      <td>66.000</td>\n",
       "      <td>23.000</td>\n",
       "      <td>94.000</td>\n",
       "      <td>28.100</td>\n",
       "      <td>0.167</td>\n",
       "      <td>21</td>\n",
       "      <td>0</td>\n",
       "      <td>1</td>\n",
       "      <td>Fazla Kilolu</td>\n",
       "      <td>0</td>\n",
       "    </tr>\n",
       "    <tr>\n",
       "      <th>4</th>\n",
       "      <td>0</td>\n",
       "      <td>137.000</td>\n",
       "      <td>40.000</td>\n",
       "      <td>35.000</td>\n",
       "      <td>168.000</td>\n",
       "      <td>43.100</td>\n",
       "      <td>2.288</td>\n",
       "      <td>33</td>\n",
       "      <td>1</td>\n",
       "      <td>1</td>\n",
       "      <td>Obesite</td>\n",
       "      <td>4</td>\n",
       "    </tr>\n",
       "  </tbody>\n",
       "</table>\n",
       "</div>"
      ],
      "text/plain": [
       "   Pregnancies  Glucose  BloodPressure  SkinThickness  Insulin    BMI  DiabetesPedigreeFunction  Age  Outcome  age_group  BMI_Category  Pregnancy_Category\n",
       "0            6  148.000         72.000         35.000  105.000 33.600                     0.627   50        1          1       Obesite                   2\n",
       "1            1   85.000         66.000         29.000  105.000 26.600                     0.351   31        0          1  Fazla Kilolu                   0\n",
       "2            8  183.000         64.000         32.000  105.000 23.300                     0.672   32        1          1        Normal                   3\n",
       "3            1   89.000         66.000         23.000   94.000 28.100                     0.167   21        0          1  Fazla Kilolu                   0\n",
       "4            0  137.000         40.000         35.000  168.000 43.100                     2.288   33        1          1       Obesite                   4"
      ]
     },
     "execution_count": 15,
     "metadata": {},
     "output_type": "execute_result"
    }
   ],
   "source": [
    "# 2'den fazla değişken mevcut fakat aralarında bir üstünlük mevcut. Hamilelik sayısısı arttıkça diabet olma riskide artmaktadır.\n",
    "le=LabelEncoder()\n",
    "df[\"Pregnancy_Category\"]=le.fit_transform(df[\"Pregnancy_Category\"])\n",
    "df.head()"
   ]
  },
  {
   "cell_type": "code",
   "execution_count": 16,
   "id": "f755ac3a",
   "metadata": {
    "execution": {
     "iopub.execute_input": "2024-10-07T17:28:40.457312Z",
     "iopub.status.busy": "2024-10-07T17:28:40.456866Z",
     "iopub.status.idle": "2024-10-07T17:28:40.476587Z",
     "shell.execute_reply": "2024-10-07T17:28:40.475492Z"
    },
    "papermill": {
     "duration": 0.034889,
     "end_time": "2024-10-07T17:28:40.479395",
     "exception": false,
     "start_time": "2024-10-07T17:28:40.444506",
     "status": "completed"
    },
    "tags": []
   },
   "outputs": [
    {
     "data": {
      "text/html": [
       "<div>\n",
       "<style scoped>\n",
       "    .dataframe tbody tr th:only-of-type {\n",
       "        vertical-align: middle;\n",
       "    }\n",
       "\n",
       "    .dataframe tbody tr th {\n",
       "        vertical-align: top;\n",
       "    }\n",
       "\n",
       "    .dataframe thead th {\n",
       "        text-align: right;\n",
       "    }\n",
       "</style>\n",
       "<table border=\"1\" class=\"dataframe\">\n",
       "  <thead>\n",
       "    <tr style=\"text-align: right;\">\n",
       "      <th></th>\n",
       "      <th>Pregnancies</th>\n",
       "      <th>Glucose</th>\n",
       "      <th>BloodPressure</th>\n",
       "      <th>SkinThickness</th>\n",
       "      <th>Insulin</th>\n",
       "      <th>BMI</th>\n",
       "      <th>DiabetesPedigreeFunction</th>\n",
       "      <th>Age</th>\n",
       "      <th>Outcome</th>\n",
       "      <th>Pregnancy_Category</th>\n",
       "      <th>age_group_1</th>\n",
       "      <th>BMI_Category_Normal</th>\n",
       "      <th>BMI_Category_Fazla Kilolu</th>\n",
       "      <th>BMI_Category_Obesite</th>\n",
       "    </tr>\n",
       "  </thead>\n",
       "  <tbody>\n",
       "    <tr>\n",
       "      <th>0</th>\n",
       "      <td>6</td>\n",
       "      <td>148</td>\n",
       "      <td>72</td>\n",
       "      <td>35</td>\n",
       "      <td>105</td>\n",
       "      <td>33</td>\n",
       "      <td>0</td>\n",
       "      <td>50</td>\n",
       "      <td>1</td>\n",
       "      <td>2</td>\n",
       "      <td>1</td>\n",
       "      <td>0</td>\n",
       "      <td>0</td>\n",
       "      <td>1</td>\n",
       "    </tr>\n",
       "    <tr>\n",
       "      <th>1</th>\n",
       "      <td>1</td>\n",
       "      <td>85</td>\n",
       "      <td>66</td>\n",
       "      <td>29</td>\n",
       "      <td>105</td>\n",
       "      <td>26</td>\n",
       "      <td>0</td>\n",
       "      <td>31</td>\n",
       "      <td>0</td>\n",
       "      <td>0</td>\n",
       "      <td>1</td>\n",
       "      <td>0</td>\n",
       "      <td>1</td>\n",
       "      <td>0</td>\n",
       "    </tr>\n",
       "    <tr>\n",
       "      <th>2</th>\n",
       "      <td>8</td>\n",
       "      <td>183</td>\n",
       "      <td>64</td>\n",
       "      <td>32</td>\n",
       "      <td>105</td>\n",
       "      <td>23</td>\n",
       "      <td>0</td>\n",
       "      <td>32</td>\n",
       "      <td>1</td>\n",
       "      <td>3</td>\n",
       "      <td>1</td>\n",
       "      <td>1</td>\n",
       "      <td>0</td>\n",
       "      <td>0</td>\n",
       "    </tr>\n",
       "    <tr>\n",
       "      <th>3</th>\n",
       "      <td>1</td>\n",
       "      <td>89</td>\n",
       "      <td>66</td>\n",
       "      <td>23</td>\n",
       "      <td>94</td>\n",
       "      <td>28</td>\n",
       "      <td>0</td>\n",
       "      <td>21</td>\n",
       "      <td>0</td>\n",
       "      <td>0</td>\n",
       "      <td>1</td>\n",
       "      <td>0</td>\n",
       "      <td>1</td>\n",
       "      <td>0</td>\n",
       "    </tr>\n",
       "    <tr>\n",
       "      <th>4</th>\n",
       "      <td>0</td>\n",
       "      <td>137</td>\n",
       "      <td>40</td>\n",
       "      <td>35</td>\n",
       "      <td>168</td>\n",
       "      <td>43</td>\n",
       "      <td>2</td>\n",
       "      <td>33</td>\n",
       "      <td>1</td>\n",
       "      <td>4</td>\n",
       "      <td>1</td>\n",
       "      <td>0</td>\n",
       "      <td>0</td>\n",
       "      <td>1</td>\n",
       "    </tr>\n",
       "  </tbody>\n",
       "</table>\n",
       "</div>"
      ],
      "text/plain": [
       "   Pregnancies  Glucose  BloodPressure  SkinThickness  Insulin  BMI  DiabetesPedigreeFunction  Age  Outcome  Pregnancy_Category  age_group_1  BMI_Category_Normal  BMI_Category_Fazla Kilolu  BMI_Category_Obesite\n",
       "0            6      148             72             35      105   33                         0   50        1                   2            1                    0                          0                     1\n",
       "1            1       85             66             29      105   26                         0   31        0                   0            1                    0                          1                     0\n",
       "2            8      183             64             32      105   23                         0   32        1                   3            1                    1                          0                     0\n",
       "3            1       89             66             23       94   28                         0   21        0                   0            1                    0                          1                     0\n",
       "4            0      137             40             35      168   43                         2   33        1                   4            1                    0                          0                     1"
      ]
     },
     "execution_count": 16,
     "metadata": {},
     "output_type": "execute_result"
    }
   ],
   "source": [
    "# 2'den fazla değişken var ve aralarında bir üstünlük olmadığı için one hot encoding işlemi yapılır.\n",
    "pd.get_dummies(df, columns=[\"age_group\", \"BMI_Category\"], drop_first=True).astype(\"int\").head()"
   ]
  },
  {
   "cell_type": "markdown",
   "id": "73146016",
   "metadata": {
    "papermill": {
     "duration": 0.010903,
     "end_time": "2024-10-07T17:28:40.501508",
     "exception": false,
     "start_time": "2024-10-07T17:28:40.490605",
     "status": "completed"
    },
    "tags": []
   },
   "source": [
    "11-Standartlaşma İşlemlerini Uygulama \n",
    "Verilerde ki aykırılıklığı önlemek için kullanılır.\n",
    "Verilerin dağılımını düzenleştirir.\n",
    "Stokastik gradyan inişi gibi optimizasyon algoritmaları, daha hızlı ve daha etkili bir şekilde çalışmak için standartlaştırılmış verilere ihtiyaç duyar.\n",
    "\n",
    "MinMax Scaler\n",
    "RobustScaler\n",
    "StandartScaler\n",
    "gibi yöntemler mevcuttur."
   ]
  },
  {
   "cell_type": "code",
   "execution_count": 17,
   "id": "e3a8bc8a",
   "metadata": {
    "execution": {
     "iopub.execute_input": "2024-10-07T17:28:40.526305Z",
     "iopub.status.busy": "2024-10-07T17:28:40.525347Z",
     "iopub.status.idle": "2024-10-07T17:28:40.546104Z",
     "shell.execute_reply": "2024-10-07T17:28:40.544769Z"
    },
    "papermill": {
     "duration": 0.035612,
     "end_time": "2024-10-07T17:28:40.548542",
     "exception": false,
     "start_time": "2024-10-07T17:28:40.512930",
     "status": "completed"
    },
    "tags": []
   },
   "outputs": [
    {
     "data": {
      "text/html": [
       "<div>\n",
       "<style scoped>\n",
       "    .dataframe tbody tr th:only-of-type {\n",
       "        vertical-align: middle;\n",
       "    }\n",
       "\n",
       "    .dataframe tbody tr th {\n",
       "        vertical-align: top;\n",
       "    }\n",
       "\n",
       "    .dataframe thead th {\n",
       "        text-align: right;\n",
       "    }\n",
       "</style>\n",
       "<table border=\"1\" class=\"dataframe\">\n",
       "  <thead>\n",
       "    <tr style=\"text-align: right;\">\n",
       "      <th></th>\n",
       "      <th>Pregnancies</th>\n",
       "      <th>Glucose</th>\n",
       "      <th>BloodPressure</th>\n",
       "      <th>SkinThickness</th>\n",
       "      <th>Insulin</th>\n",
       "      <th>BMI</th>\n",
       "      <th>DiabetesPedigreeFunction</th>\n",
       "      <th>Age</th>\n",
       "      <th>Outcome</th>\n",
       "      <th>age_group</th>\n",
       "      <th>BMI_Category</th>\n",
       "      <th>Pregnancy_Category</th>\n",
       "    </tr>\n",
       "  </thead>\n",
       "  <tbody>\n",
       "    <tr>\n",
       "      <th>0</th>\n",
       "      <td>0.353</td>\n",
       "      <td>0.671</td>\n",
       "      <td>0.490</td>\n",
       "      <td>0.304</td>\n",
       "      <td>0.109</td>\n",
       "      <td>0.315</td>\n",
       "      <td>0.234</td>\n",
       "      <td>0.483</td>\n",
       "      <td>1</td>\n",
       "      <td>1</td>\n",
       "      <td>Obesite</td>\n",
       "      <td>2</td>\n",
       "    </tr>\n",
       "    <tr>\n",
       "      <th>1</th>\n",
       "      <td>0.059</td>\n",
       "      <td>0.265</td>\n",
       "      <td>0.429</td>\n",
       "      <td>0.239</td>\n",
       "      <td>0.109</td>\n",
       "      <td>0.172</td>\n",
       "      <td>0.117</td>\n",
       "      <td>0.167</td>\n",
       "      <td>0</td>\n",
       "      <td>1</td>\n",
       "      <td>Fazla Kilolu</td>\n",
       "      <td>0</td>\n",
       "    </tr>\n",
       "    <tr>\n",
       "      <th>2</th>\n",
       "      <td>0.471</td>\n",
       "      <td>0.897</td>\n",
       "      <td>0.408</td>\n",
       "      <td>0.272</td>\n",
       "      <td>0.109</td>\n",
       "      <td>0.104</td>\n",
       "      <td>0.254</td>\n",
       "      <td>0.183</td>\n",
       "      <td>1</td>\n",
       "      <td>1</td>\n",
       "      <td>Normal</td>\n",
       "      <td>3</td>\n",
       "    </tr>\n",
       "    <tr>\n",
       "      <th>3</th>\n",
       "      <td>0.059</td>\n",
       "      <td>0.290</td>\n",
       "      <td>0.429</td>\n",
       "      <td>0.174</td>\n",
       "      <td>0.096</td>\n",
       "      <td>0.202</td>\n",
       "      <td>0.038</td>\n",
       "      <td>0.000</td>\n",
       "      <td>0</td>\n",
       "      <td>1</td>\n",
       "      <td>Fazla Kilolu</td>\n",
       "      <td>0</td>\n",
       "    </tr>\n",
       "    <tr>\n",
       "      <th>4</th>\n",
       "      <td>0.000</td>\n",
       "      <td>0.600</td>\n",
       "      <td>0.163</td>\n",
       "      <td>0.304</td>\n",
       "      <td>0.185</td>\n",
       "      <td>0.509</td>\n",
       "      <td>0.944</td>\n",
       "      <td>0.200</td>\n",
       "      <td>1</td>\n",
       "      <td>1</td>\n",
       "      <td>Obesite</td>\n",
       "      <td>4</td>\n",
       "    </tr>\n",
       "  </tbody>\n",
       "</table>\n",
       "</div>"
      ],
      "text/plain": [
       "   Pregnancies  Glucose  BloodPressure  SkinThickness  Insulin   BMI  DiabetesPedigreeFunction   Age  Outcome  age_group  BMI_Category  Pregnancy_Category\n",
       "0        0.353    0.671          0.490          0.304    0.109 0.315                     0.234 0.483        1          1       Obesite                   2\n",
       "1        0.059    0.265          0.429          0.239    0.109 0.172                     0.117 0.167        0          1  Fazla Kilolu                   0\n",
       "2        0.471    0.897          0.408          0.272    0.109 0.104                     0.254 0.183        1          1        Normal                   3\n",
       "3        0.059    0.290          0.429          0.174    0.096 0.202                     0.038 0.000        0          1  Fazla Kilolu                   0\n",
       "4        0.000    0.600          0.163          0.304    0.185 0.509                     0.944 0.200        1          1       Obesite                   4"
      ]
     },
     "execution_count": 17,
     "metadata": {},
     "output_type": "execute_result"
    }
   ],
   "source": [
    "mms = MinMaxScaler()\n",
    "df[num_cols]=mms.fit_transform(df[num_cols])\n",
    "df.head()"
   ]
  },
  {
   "cell_type": "markdown",
   "id": "33749c17",
   "metadata": {
    "papermill": {
     "duration": 0.011271,
     "end_time": "2024-10-07T17:28:40.571369",
     "exception": false,
     "start_time": "2024-10-07T17:28:40.560098",
     "status": "completed"
    },
    "tags": []
   },
   "source": [
    "12-Model Oluşturma"
   ]
  },
  {
   "cell_type": "markdown",
   "id": "80691d0b",
   "metadata": {
    "papermill": {
     "duration": 0.015378,
     "end_time": "2024-10-07T17:28:40.598416",
     "exception": false,
     "start_time": "2024-10-07T17:28:40.583038",
     "status": "completed"
    },
    "tags": []
   },
   "source": []
  },
  {
   "cell_type": "code",
   "execution_count": 18,
   "id": "f4c0a730",
   "metadata": {
    "execution": {
     "iopub.execute_input": "2024-10-07T17:28:40.623825Z",
     "iopub.status.busy": "2024-10-07T17:28:40.623114Z",
     "iopub.status.idle": "2024-10-07T17:28:41.015228Z",
     "shell.execute_reply": "2024-10-07T17:28:41.013911Z"
    },
    "papermill": {
     "duration": 0.40756,
     "end_time": "2024-10-07T17:28:41.017925",
     "exception": false,
     "start_time": "2024-10-07T17:28:40.610365",
     "status": "completed"
    },
    "tags": []
   },
   "outputs": [
    {
     "name": "stdout",
     "output_type": "stream",
     "text": [
      "0.7272727272727273\n",
      "0.7402597402597403\n"
     ]
    }
   ],
   "source": [
    "\n",
    "df=df.drop(columns=[\"age_group\",\"BMI_Category\"])\n",
    "y_train=df[\"Outcome\"]\n",
    "x_train=df.drop([\"Outcome\"],axis=1)\n",
    "X_train, X_test, y_train, y_test = train_test_split(x_train, y_train, test_size=0.30,random_state=42)\n",
    "\n",
    "from sklearn.ensemble import RandomForestClassifier\n",
    "from sklearn.neighbors import KNeighborsClassifier\n",
    "from sklearn.tree import DecisionTreeClassifier\n",
    "\n",
    "knn=KNeighborsClassifier(n_neighbors=3)\n",
    "knn.fit(X_train,y_train)\n",
    "pred=knn.predict(X_test)\n",
    "accuracy = accuracy_score(y_test, pred)\n",
    "print(accuracy)\n",
    "pd.DataFrame({\"Tahmin\":pred,\"Sonuç\":y_test})\n",
    "\n",
    "rf=RandomForestClassifier()\n",
    "rf.fit(X_train,y_train)\n",
    "pred2=rf.predict(X_test)\n",
    "accuracy_score=accuracy_score(y_test,pred2)\n",
    "print(accuracy_score)"
   ]
  },
  {
   "cell_type": "markdown",
   "id": "23ee5a9d",
   "metadata": {
    "papermill": {
     "duration": 0.011155,
     "end_time": "2024-10-07T17:28:41.040957",
     "exception": false,
     "start_time": "2024-10-07T17:28:41.029802",
     "status": "completed"
    },
    "tags": []
   },
   "source": []
  }
 ],
 "metadata": {
  "kaggle": {
   "accelerator": "none",
   "dataSources": [
    {
     "datasetId": 5826426,
     "sourceId": 9561036,
     "sourceType": "datasetVersion"
    }
   ],
   "dockerImageVersionId": 30786,
   "isGpuEnabled": false,
   "isInternetEnabled": true,
   "language": "python",
   "sourceType": "notebook"
  },
  "kernelspec": {
   "display_name": "Python 3",
   "language": "python",
   "name": "python3"
  },
  "language_info": {
   "codemirror_mode": {
    "name": "ipython",
    "version": 3
   },
   "file_extension": ".py",
   "mimetype": "text/x-python",
   "name": "python",
   "nbconvert_exporter": "python",
   "pygments_lexer": "ipython3",
   "version": "3.10.14"
  },
  "papermill": {
   "default_parameters": {},
   "duration": 20.882551,
   "end_time": "2024-10-07T17:28:41.774241",
   "environment_variables": {},
   "exception": null,
   "input_path": "__notebook__.ipynb",
   "output_path": "__notebook__.ipynb",
   "parameters": {},
   "start_time": "2024-10-07T17:28:20.891690",
   "version": "2.6.0"
  }
 },
 "nbformat": 4,
 "nbformat_minor": 5
}
