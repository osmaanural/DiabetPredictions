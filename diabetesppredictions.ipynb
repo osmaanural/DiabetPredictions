{
 "cells": [
  {
   "cell_type": "markdown",
   "id": "4eb061e3",
   "metadata": {
    "papermill": {
     "duration": 0.00803,
     "end_time": "2025-03-01T14:56:03.647944",
     "exception": false,
     "start_time": "2025-03-01T14:56:03.639914",
     "status": "completed"
    },
    "tags": []
   },
   "source": [
    "#############################\n",
    "# Diabete Feature Engineering\n",
    "##############################\n",
    "\n",
    "# Problem : Özellikleri belirtildiğinde kişilerin diyabet hastası olup olmadıklarını tahmin edebilecek bir makine öğrenmesi modeli geliştirilmesi\n",
    "# istenmektedir. Modeli geliştirmeden önce gerekli olan veri analizi ve özellik mühendisliği adımlarını gerçekleştirmeniz beklenmektedir.\n",
    "\n",
    "# Veri seti ABD'deki Ulusal Diyabet-Sindirim-Böbrek Hastalıkları Enstitüleri'nde tutulan büyük veri setinin parçasıdır.\n",
    "# ABD'deki Arizona Eyaleti'nin en büyük 5. şehri olan Phoenix şehrinde yaşayan 21 yaş ve üzerinde olan Pima Indian kadınları\n",
    "# üzerinde yapılan diyabet araştırması için kullanılan verilerdir. 768 gözlem ve 8 sayısal bağımsız değişkenden oluşmaktadır.\n",
    "# Hedef değişken \"outcome\" olarak belirtilmiş olup; 1 diyabet test sonucunun pozitif oluşunu, 0 ise negatif oluşunu belirtmektedir.\n",
    "\n",
    "# Pregnancies: Hamilelik sayısı\n",
    "# Glucose: Glikoz\n",
    "# BloodPressure: Kan basıncı (Diastolic(Küçük Tansiyon))\n",
    "# SkinThickness: Cilt Kalınlığı\n",
    "# Insulin: İnsülin.\n",
    "# BMI: Beden kitle indeksi.\n",
    "# DiabetesPedigreeFunction: Soyumuzdaki kişilere göre diyabet olma ihtimalimizi hesaplayan bir fonksiyon.\n",
    "# Age: Yaş (yıl)\n",
    "# Outcome: Kişinin diyabet olup olmadığı bilgisi. Hastalığa sahip (1) ya da değil (0)\n",
    "\n",
    "\n",
    "# GÖREV 1: KEŞİFCİ VERİ ANALİZİ\n",
    "           # Adım 1: Genel resmi inceleyiniz.\n",
    "           # Adım 2: Numerik ve kategorik değişkenleri yakalayınız.\n",
    "           # Adım 3:  Numerik ve kategorik değişkenlerin analizini yapınız.\n",
    "           # Adım 4: Hedef değişken analizi yapınız. (Kategorik değişkenlere göre hedef değişkenin ortalaması, hedef değişkene göre numerik değişkenlerin ortalaması)\n",
    "           # Adım 5: Aykırı gözlem analizi yapınız.\n",
    "           # Adım 6: Eksik gözlem analizi yapınız.\n",
    "           # Adım 7: Korelasyon analizi yapınız.\n",
    "\n",
    "# GÖREV 2: FEATURE ENGINEERING\n",
    "           # Adım 1:  Eksik ve aykırı değerler için gerekli işlemleri yapınız. Veri setinde eksik gözlem bulunmamakta ama Glikoz, Insulin vb.\n",
    "           # değişkenlerde 0 değeri içeren gözlem birimleri eksik değeri ifade ediyor olabilir. Örneğin; bir kişinin glikoz veya insulin değeri\n",
    "           # 0 olamayacaktır. Bu durumu dikkate alarak sıfır değerlerini ilgili değerlerde NaN olarak atama yapıp sonrasında eksik değerlere\n",
    "           # işlemleri uygulayabilirsiniz.\n",
    "           # Adım 2: Yeni değişkenler oluşturunuz.\n",
    "           # Adım 3:  Encoding işlemlerini gerçekleştiriniz.\n",
    "           # Adım 4: Numerik değişkenler için standartlaştırma yapınız.\n",
    "           # Adım 5: Model oluşturunuz.\n"
   ]
  },
  {
   "cell_type": "code",
   "execution_count": 1,
   "id": "5883af02",
   "metadata": {
    "execution": {
     "iopub.execute_input": "2025-03-01T14:56:03.663596Z",
     "iopub.status.busy": "2025-03-01T14:56:03.663176Z",
     "iopub.status.idle": "2025-03-01T14:56:06.904386Z",
     "shell.execute_reply": "2025-03-01T14:56:06.903298Z"
    },
    "papermill": {
     "duration": 3.251658,
     "end_time": "2025-03-01T14:56:06.906635",
     "exception": false,
     "start_time": "2025-03-01T14:56:03.654977",
     "status": "completed"
    },
    "tags": []
   },
   "outputs": [
    {
     "data": {
      "text/html": [
       "<div>\n",
       "<style scoped>\n",
       "    .dataframe tbody tr th:only-of-type {\n",
       "        vertical-align: middle;\n",
       "    }\n",
       "\n",
       "    .dataframe tbody tr th {\n",
       "        vertical-align: top;\n",
       "    }\n",
       "\n",
       "    .dataframe thead th {\n",
       "        text-align: right;\n",
       "    }\n",
       "</style>\n",
       "<table border=\"1\" class=\"dataframe\">\n",
       "  <thead>\n",
       "    <tr style=\"text-align: right;\">\n",
       "      <th></th>\n",
       "      <th>Pregnancies</th>\n",
       "      <th>Glucose</th>\n",
       "      <th>BloodPressure</th>\n",
       "      <th>SkinThickness</th>\n",
       "      <th>Insulin</th>\n",
       "      <th>BMI</th>\n",
       "      <th>DiabetesPedigreeFunction</th>\n",
       "      <th>Age</th>\n",
       "      <th>Outcome</th>\n",
       "    </tr>\n",
       "  </thead>\n",
       "  <tbody>\n",
       "    <tr>\n",
       "      <th>0</th>\n",
       "      <td>6</td>\n",
       "      <td>148</td>\n",
       "      <td>72</td>\n",
       "      <td>35</td>\n",
       "      <td>0</td>\n",
       "      <td>33.600</td>\n",
       "      <td>0.627</td>\n",
       "      <td>50</td>\n",
       "      <td>1</td>\n",
       "    </tr>\n",
       "    <tr>\n",
       "      <th>1</th>\n",
       "      <td>1</td>\n",
       "      <td>85</td>\n",
       "      <td>66</td>\n",
       "      <td>29</td>\n",
       "      <td>0</td>\n",
       "      <td>26.600</td>\n",
       "      <td>0.351</td>\n",
       "      <td>31</td>\n",
       "      <td>0</td>\n",
       "    </tr>\n",
       "    <tr>\n",
       "      <th>2</th>\n",
       "      <td>8</td>\n",
       "      <td>183</td>\n",
       "      <td>64</td>\n",
       "      <td>0</td>\n",
       "      <td>0</td>\n",
       "      <td>23.300</td>\n",
       "      <td>0.672</td>\n",
       "      <td>32</td>\n",
       "      <td>1</td>\n",
       "    </tr>\n",
       "    <tr>\n",
       "      <th>3</th>\n",
       "      <td>1</td>\n",
       "      <td>89</td>\n",
       "      <td>66</td>\n",
       "      <td>23</td>\n",
       "      <td>94</td>\n",
       "      <td>28.100</td>\n",
       "      <td>0.167</td>\n",
       "      <td>21</td>\n",
       "      <td>0</td>\n",
       "    </tr>\n",
       "    <tr>\n",
       "      <th>4</th>\n",
       "      <td>0</td>\n",
       "      <td>137</td>\n",
       "      <td>40</td>\n",
       "      <td>35</td>\n",
       "      <td>168</td>\n",
       "      <td>43.100</td>\n",
       "      <td>2.288</td>\n",
       "      <td>33</td>\n",
       "      <td>1</td>\n",
       "    </tr>\n",
       "  </tbody>\n",
       "</table>\n",
       "</div>"
      ],
      "text/plain": [
       "   Pregnancies  Glucose  BloodPressure  SkinThickness  Insulin    BMI  \\\n",
       "0            6      148             72             35        0 33.600   \n",
       "1            1       85             66             29        0 26.600   \n",
       "2            8      183             64              0        0 23.300   \n",
       "3            1       89             66             23       94 28.100   \n",
       "4            0      137             40             35      168 43.100   \n",
       "\n",
       "   DiabetesPedigreeFunction  Age  Outcome  \n",
       "0                     0.627   50        1  \n",
       "1                     0.351   31        0  \n",
       "2                     0.672   32        1  \n",
       "3                     0.167   21        0  \n",
       "4                     2.288   33        1  "
      ]
     },
     "execution_count": 1,
     "metadata": {},
     "output_type": "execute_result"
    }
   ],
   "source": [
    "\n",
    "# Gerekli Kütüphane ve Fonksiyonlar\n",
    "import numpy as np\n",
    "import pandas as pd\n",
    "import matplotlib.pyplot as plt\n",
    "import seaborn as sns\n",
    "from sklearn.metrics import accuracy_score, precision_score, recall_score, f1_score,roc_auc_score\n",
    "from sklearn.model_selection import GridSearchCV, cross_validate\n",
    "from sklearn.model_selection import train_test_split\n",
    "from sklearn.preprocessing import LabelEncoder\n",
    "from sklearn.ensemble import RandomForestClassifier\n",
    "from sklearn.preprocessing import StandardScaler, MinMaxScaler\n",
    "import warnings\n",
    "warnings.simplefilter(action=\"ignore\")\n",
    "\n",
    "pd.set_option('display.max_columns', None)\n",
    "pd.set_option('display.width', None)\n",
    "pd.set_option('display.max_rows', 20)\n",
    "pd.set_option('display.float_format', lambda x: '%.3f' % x)\n",
    "\n",
    "\n",
    "df = pd.read_csv(\"/kaggle/input/diabetes/diabetes.csv\")\n",
    "df.head()"
   ]
  },
  {
   "cell_type": "markdown",
   "id": "3fb11dee",
   "metadata": {
    "papermill": {
     "duration": 0.00678,
     "end_time": "2025-03-01T14:56:06.920610",
     "exception": false,
     "start_time": "2025-03-01T14:56:06.913830",
     "status": "completed"
    },
    "tags": []
   },
   "source": [
    "##################################\n",
    "# GÖREV 1: KEŞİFCİ VERİ ANALİZİ\n",
    "##################################\n",
    "\n",
    "##################################\n",
    "# GENEL RESİM\n",
    "##################################"
   ]
  },
  {
   "cell_type": "code",
   "execution_count": 2,
   "id": "d10d17f9",
   "metadata": {
    "execution": {
     "iopub.execute_input": "2025-03-01T14:56:06.936632Z",
     "iopub.status.busy": "2025-03-01T14:56:06.935799Z",
     "iopub.status.idle": "2025-03-01T14:56:06.974747Z",
     "shell.execute_reply": "2025-03-01T14:56:06.973728Z"
    },
    "papermill": {
     "duration": 0.049799,
     "end_time": "2025-03-01T14:56:06.977358",
     "exception": false,
     "start_time": "2025-03-01T14:56:06.927559",
     "status": "completed"
    },
    "tags": []
   },
   "outputs": [
    {
     "name": "stdout",
     "output_type": "stream",
     "text": [
      "##################### Shape #####################\n",
      "(768, 9)\n",
      "##################### Types #####################\n",
      "Pregnancies                   int64\n",
      "Glucose                       int64\n",
      "BloodPressure                 int64\n",
      "SkinThickness                 int64\n",
      "Insulin                       int64\n",
      "BMI                         float64\n",
      "DiabetesPedigreeFunction    float64\n",
      "Age                           int64\n",
      "Outcome                       int64\n",
      "dtype: object\n",
      "##################### Head #####################\n",
      "   Pregnancies  Glucose  BloodPressure  SkinThickness  Insulin    BMI  \\\n",
      "0            6      148             72             35        0 33.600   \n",
      "1            1       85             66             29        0 26.600   \n",
      "2            8      183             64              0        0 23.300   \n",
      "3            1       89             66             23       94 28.100   \n",
      "4            0      137             40             35      168 43.100   \n",
      "\n",
      "   DiabetesPedigreeFunction  Age  Outcome  \n",
      "0                     0.627   50        1  \n",
      "1                     0.351   31        0  \n",
      "2                     0.672   32        1  \n",
      "3                     0.167   21        0  \n",
      "4                     2.288   33        1  \n",
      "##################### Tail #####################\n",
      "     Pregnancies  Glucose  BloodPressure  SkinThickness  Insulin    BMI  \\\n",
      "763           10      101             76             48      180 32.900   \n",
      "764            2      122             70             27        0 36.800   \n",
      "765            5      121             72             23      112 26.200   \n",
      "766            1      126             60              0        0 30.100   \n",
      "767            1       93             70             31        0 30.400   \n",
      "\n",
      "     DiabetesPedigreeFunction  Age  Outcome  \n",
      "763                     0.171   63        0  \n",
      "764                     0.340   27        0  \n",
      "765                     0.245   30        0  \n",
      "766                     0.349   47        1  \n",
      "767                     0.315   23        0  \n",
      "##################### NA #####################\n",
      "Pregnancies                 0\n",
      "Glucose                     0\n",
      "BloodPressure               0\n",
      "SkinThickness               0\n",
      "Insulin                     0\n",
      "BMI                         0\n",
      "DiabetesPedigreeFunction    0\n",
      "Age                         0\n",
      "Outcome                     0\n",
      "dtype: int64\n",
      "##################### Quantiles #####################\n",
      "                          0.000  0.050   0.500   0.950   0.990   1.000\n",
      "Pregnancies               0.000  0.000   3.000  10.000  13.000  17.000\n",
      "Glucose                   0.000 79.000 117.000 181.000 196.000 199.000\n",
      "BloodPressure             0.000 38.700  72.000  90.000 106.000 122.000\n",
      "SkinThickness             0.000  0.000  23.000  44.000  51.330  99.000\n",
      "Insulin                   0.000  0.000  30.500 293.000 519.900 846.000\n",
      "BMI                       0.000 21.800  32.000  44.395  50.759  67.100\n",
      "DiabetesPedigreeFunction  0.078  0.140   0.372   1.133   1.698   2.420\n",
      "Age                      21.000 21.000  29.000  58.000  67.000  81.000\n",
      "Outcome                   0.000  0.000   0.000   1.000   1.000   1.000\n",
      "<class 'pandas.core.frame.DataFrame'>\n",
      "RangeIndex: 768 entries, 0 to 767\n",
      "Data columns (total 9 columns):\n",
      " #   Column                    Non-Null Count  Dtype  \n",
      "---  ------                    --------------  -----  \n",
      " 0   Pregnancies               768 non-null    int64  \n",
      " 1   Glucose                   768 non-null    int64  \n",
      " 2   BloodPressure             768 non-null    int64  \n",
      " 3   SkinThickness             768 non-null    int64  \n",
      " 4   Insulin                   768 non-null    int64  \n",
      " 5   BMI                       768 non-null    float64\n",
      " 6   DiabetesPedigreeFunction  768 non-null    float64\n",
      " 7   Age                       768 non-null    int64  \n",
      " 8   Outcome                   768 non-null    int64  \n",
      "dtypes: float64(2), int64(7)\n",
      "memory usage: 54.1 KB\n"
     ]
    }
   ],
   "source": [
    "\n",
    "def check_df(dataframe, head=5):\n",
    "    print(\"##################### Shape #####################\")\n",
    "    print(dataframe.shape)\n",
    "    print(\"##################### Types #####################\")\n",
    "    print(dataframe.dtypes)\n",
    "    print(\"##################### Head #####################\")\n",
    "    print(dataframe.head(head))\n",
    "    print(\"##################### Tail #####################\")\n",
    "    print(dataframe.tail(head))\n",
    "    print(\"##################### NA #####################\")\n",
    "    print(dataframe.isnull().sum())\n",
    "    print(\"##################### Quantiles #####################\")\n",
    "    print(dataframe.quantile([0, 0.05, 0.50, 0.95, 0.99, 1]).T)\n",
    "\n",
    "check_df(df)\n",
    "\n",
    "df.head()\n",
    "df.info()"
   ]
  },
  {
   "cell_type": "markdown",
   "id": "24367449",
   "metadata": {
    "papermill": {
     "duration": 0.006785,
     "end_time": "2025-03-01T14:56:06.992896",
     "exception": false,
     "start_time": "2025-03-01T14:56:06.986111",
     "status": "completed"
    },
    "tags": []
   },
   "source": [
    "##################################\n",
    "# NUMERİK VE KATEGORİK DEĞİŞKENLERİN YAKALANMASI\n",
    "##################################\n"
   ]
  },
  {
   "cell_type": "code",
   "execution_count": 3,
   "id": "2ce18abb",
   "metadata": {
    "execution": {
     "iopub.execute_input": "2025-03-01T14:56:07.012324Z",
     "iopub.status.busy": "2025-03-01T14:56:07.011354Z",
     "iopub.status.idle": "2025-03-01T14:56:07.032719Z",
     "shell.execute_reply": "2025-03-01T14:56:07.031500Z"
    },
    "papermill": {
     "duration": 0.03472,
     "end_time": "2025-03-01T14:56:07.034725",
     "exception": false,
     "start_time": "2025-03-01T14:56:07.000005",
     "status": "completed"
    },
    "tags": []
   },
   "outputs": [
    {
     "name": "stdout",
     "output_type": "stream",
     "text": [
      "Observations: 768\n",
      "Variables: 9\n",
      "cat_cols: 1\n",
      "num_cols: 8\n",
      "cat_but_car: 0\n",
      "num_but_cat: 1\n"
     ]
    },
    {
     "data": {
      "text/plain": [
       "[]"
      ]
     },
     "execution_count": 3,
     "metadata": {},
     "output_type": "execute_result"
    }
   ],
   "source": [
    "\n",
    "def grab_col_names(dataframe, cat_th=10, car_th=20):\n",
    "    \"\"\"\n",
    "\n",
    "    Veri setindeki kategorik, numerik ve kategorik fakat kardinal değişkenlerin isimlerini verir.\n",
    "    Not: Kategorik değişkenlerin içerisine numerik görünümlü kategorik değişkenler de dahildir.\n",
    "\n",
    "    Parameters\n",
    "    ------\n",
    "        dataframe: dataframe\n",
    "                Değişken isimleri alınmak istenilen dataframe\n",
    "        cat_th: int, optional\n",
    "                numerik fakat kategorik olan değişkenler için sınıf eşik değeri\n",
    "        car_th: int, optional\n",
    "                kategorik fakat kardinal değişkenler için sınıf eşik değeri\n",
    "\n",
    "    Returns\n",
    "    ------\n",
    "        cat_cols: list\n",
    "                Kategorik değişken listesi\n",
    "        num_cols: list\n",
    "                Numerik değişken listesi\n",
    "        cat_but_car: list\n",
    "                Kategorik görünümlü kardinal değişken listesi\n",
    "\n",
    "    Examples\n",
    "    ------\n",
    "        import seaborn as sns\n",
    "        df = sns.load_dataset(\"iris\")\n",
    "        print(grab_col_names(df))\n",
    "\n",
    "\n",
    "    Notes\n",
    "    ------\n",
    "        cat_cols + num_cols + cat_but_car = toplam değişken sayısı\n",
    "        num_but_cat cat_cols'un içerisinde.\n",
    "\n",
    "    \"\"\"\n",
    "    # cat_cols, cat_but_car\n",
    "    cat_cols = [col for col in dataframe.columns if dataframe[col].dtypes == \"O\"]\n",
    "    num_but_cat = [col for col in dataframe.columns if dataframe[col].nunique() < cat_th and dataframe[col].dtypes != \"O\"]\n",
    "    cat_but_car = [col for col in dataframe.columns if dataframe[col].nunique() > car_th and dataframe[col].dtypes == \"O\"]\n",
    "    cat_cols = cat_cols + num_but_cat\n",
    "    cat_cols = [col for col in cat_cols if col not in cat_but_car]\n",
    "\n",
    "    # num_cols\n",
    "    num_cols = [col for col in dataframe.columns if dataframe[col].dtypes != \"O\"]\n",
    "    num_cols = [col for col in num_cols if col not in num_but_cat]\n",
    "\n",
    "    print(f\"Observations: {dataframe.shape[0]}\")\n",
    "    print(f\"Variables: {dataframe.shape[1]}\")\n",
    "    print(f'cat_cols: {len(cat_cols)}')\n",
    "    print(f'num_cols: {len(num_cols)}')\n",
    "    print(f'cat_but_car: {len(cat_but_car)}')\n",
    "    print(f'num_but_cat: {len(num_but_cat)}')\n",
    "\n",
    "    return cat_cols, num_cols, cat_but_car\n",
    "\n",
    "\n",
    "cat_cols, num_cols, cat_but_car = grab_col_names(df)\n",
    "\n",
    "cat_cols\n",
    "num_cols\n",
    "cat_but_car"
   ]
  },
  {
   "cell_type": "markdown",
   "id": "9cb015de",
   "metadata": {
    "papermill": {
     "duration": 0.009183,
     "end_time": "2025-03-01T14:56:07.058346",
     "exception": false,
     "start_time": "2025-03-01T14:56:07.049163",
     "status": "completed"
    },
    "tags": []
   },
   "source": [
    "\n",
    "##################################\n",
    "# KATEGORİK DEĞİŞKENLERİN ANALİZİ\n",
    "##################################\n"
   ]
  },
  {
   "cell_type": "code",
   "execution_count": 4,
   "id": "e49be8a8",
   "metadata": {
    "execution": {
     "iopub.execute_input": "2025-03-01T14:56:07.074520Z",
     "iopub.status.busy": "2025-03-01T14:56:07.074105Z",
     "iopub.status.idle": "2025-03-01T14:56:07.087078Z",
     "shell.execute_reply": "2025-03-01T14:56:07.085750Z"
    },
    "papermill": {
     "duration": 0.023864,
     "end_time": "2025-03-01T14:56:07.089524",
     "exception": false,
     "start_time": "2025-03-01T14:56:07.065660",
     "status": "completed"
    },
    "tags": []
   },
   "outputs": [
    {
     "name": "stdout",
     "output_type": "stream",
     "text": [
      "         Outcome  Ratio\n",
      "Outcome                \n",
      "0            500 65.104\n",
      "1            268 34.896\n",
      "##########################################\n"
     ]
    }
   ],
   "source": [
    "\n",
    "def cat_summary(dataframe, col_name, plot=False):\n",
    "    print(pd.DataFrame({col_name: dataframe[col_name].value_counts(),\n",
    "                        \"Ratio\": 100 * dataframe[col_name].value_counts() / len(dataframe)}))\n",
    "    print(\"##########################################\")\n",
    "    if plot:\n",
    "        sns.countplot(x=dataframe[col_name], data=dataframe)\n",
    "        plt.show()\n",
    "\n",
    "cat_summary(df, \"Outcome\")\n"
   ]
  },
  {
   "cell_type": "markdown",
   "id": "7f7f2647",
   "metadata": {
    "papermill": {
     "duration": 0.006977,
     "end_time": "2025-03-01T14:56:07.103991",
     "exception": false,
     "start_time": "2025-03-01T14:56:07.097014",
     "status": "completed"
    },
    "tags": []
   },
   "source": [
    "\n",
    "##################################\n",
    "# NUMERİK DEĞİŞKENLERİN TARGET GÖRE ANALİZİ\n",
    "##################################\n"
   ]
  },
  {
   "cell_type": "code",
   "execution_count": 5,
   "id": "e2d451d4",
   "metadata": {
    "execution": {
     "iopub.execute_input": "2025-03-01T14:56:07.120311Z",
     "iopub.status.busy": "2025-03-01T14:56:07.119894Z",
     "iopub.status.idle": "2025-03-01T14:56:07.146544Z",
     "shell.execute_reply": "2025-03-01T14:56:07.145397Z"
    },
    "papermill": {
     "duration": 0.037711,
     "end_time": "2025-03-01T14:56:07.148913",
     "exception": false,
     "start_time": "2025-03-01T14:56:07.111202",
     "status": "completed"
    },
    "tags": []
   },
   "outputs": [
    {
     "name": "stdout",
     "output_type": "stream",
     "text": [
      "         Pregnancies\n",
      "Outcome             \n",
      "0              3.298\n",
      "1              4.866\n",
      "\n",
      "\n",
      "         Glucose\n",
      "Outcome         \n",
      "0        109.980\n",
      "1        141.257\n",
      "\n",
      "\n",
      "         BloodPressure\n",
      "Outcome               \n",
      "0               68.184\n",
      "1               70.825\n",
      "\n",
      "\n",
      "         SkinThickness\n",
      "Outcome               \n",
      "0               19.664\n",
      "1               22.164\n",
      "\n",
      "\n",
      "         Insulin\n",
      "Outcome         \n",
      "0         68.792\n",
      "1        100.336\n",
      "\n",
      "\n",
      "           BMI\n",
      "Outcome       \n",
      "0       30.304\n",
      "1       35.143\n",
      "\n",
      "\n",
      "         DiabetesPedigreeFunction\n",
      "Outcome                          \n",
      "0                           0.430\n",
      "1                           0.550\n",
      "\n",
      "\n",
      "           Age\n",
      "Outcome       \n",
      "0       31.190\n",
      "1       37.067\n",
      "\n",
      "\n"
     ]
    }
   ],
   "source": [
    "def target_summary_with_num(dataframe, target, numerical_col):\n",
    "    print(dataframe.groupby(target).agg({numerical_col: \"mean\"}), end=\"\\n\\n\\n\")\n",
    "\n",
    "for col in num_cols:\n",
    "    target_summary_with_num(df, \"Outcome\", col)\n"
   ]
  },
  {
   "cell_type": "markdown",
   "id": "d61064f8",
   "metadata": {
    "papermill": {
     "duration": 0.007308,
     "end_time": "2025-03-01T14:56:07.163580",
     "exception": false,
     "start_time": "2025-03-01T14:56:07.156272",
     "status": "completed"
    },
    "tags": []
   },
   "source": [
    "\n",
    "##################################\n",
    "# KORELASYON\n",
    "##################################\n",
    "\n",
    "# Korelasyon, olasılık kuramı ve istatistikte iki rassal değişken arasındaki doğrusal ilişkinin yönünü ve gücünü belirtir\n"
   ]
  },
  {
   "cell_type": "code",
   "execution_count": 6,
   "id": "b92dbe9c",
   "metadata": {
    "execution": {
     "iopub.execute_input": "2025-03-01T14:56:07.180366Z",
     "iopub.status.busy": "2025-03-01T14:56:07.179385Z",
     "iopub.status.idle": "2025-03-01T14:56:07.821109Z",
     "shell.execute_reply": "2025-03-01T14:56:07.820036Z"
    },
    "papermill": {
     "duration": 0.653442,
     "end_time": "2025-03-01T14:56:07.824285",
     "exception": false,
     "start_time": "2025-03-01T14:56:07.170843",
     "status": "completed"
    },
    "tags": []
   },
   "outputs": [
    {
     "data": {
      "image/png": "[encoded data removed]",
      "text/plain": [
       "<Figure size 1800x1300 with 2 Axes>"
      ]
     },
     "metadata": {},
     "output_type": "display_data"
    }
   ],
   "source": [
    "df.corr()\n",
    "\n",
    "# Korelasyon Matrisi\n",
    "f, ax = plt.subplots(figsize=[18, 13])\n",
    "sns.heatmap(df.corr(), annot=True, fmt=\".2f\", ax=ax, cmap=\"magma\")\n",
    "ax.set_title(\"Correlation Matrix\", fontsize=20)\n",
    "plt.show()\n"
   ]
  },
  {
   "cell_type": "markdown",
   "id": "b3e2d36f",
   "metadata": {
    "papermill": {
     "duration": 0.009035,
     "end_time": "2025-03-01T14:56:07.843411",
     "exception": false,
     "start_time": "2025-03-01T14:56:07.834376",
     "status": "completed"
    },
    "tags": []
   },
   "source": [
    "\n",
    "##################################\n",
    "# GÖREV 2: FEATURE ENGINEERING\n",
    "##################################\n",
    "\n",
    "##################################\n",
    "# EKSİK DEĞER ANALİZİ\n",
    "##################################"
   ]
  },
  {
   "cell_type": "code",
   "execution_count": 7,
   "id": "a1e856f4",
   "metadata": {
    "execution": {
     "iopub.execute_input": "2025-03-01T14:56:07.863860Z",
     "iopub.status.busy": "2025-03-01T14:56:07.863410Z",
     "iopub.status.idle": "2025-03-01T14:56:07.874660Z",
     "shell.execute_reply": "2025-03-01T14:56:07.873317Z"
    },
    "papermill": {
     "duration": 0.024353,
     "end_time": "2025-03-01T14:56:07.877178",
     "exception": false,
     "start_time": "2025-03-01T14:56:07.852825",
     "status": "completed"
    },
    "tags": []
   },
   "outputs": [],
   "source": [
    "# Bir insanda Pregnancies ve Outcome dışındaki değişken değerleri 0 olamayacağı bilinmektedir.\n",
    "# Bundan dolayı bu değerlerle ilgili aksiyon kararı alınmalıdır. 0 olan değerlere NaN atanabilir .\n",
    "zero_columns = [col for col in df.columns if (df[col].min() == 0 and col not in [\"Pregnancies\", \"Outcome\"])]\n",
    "\n",
    "zero_columns\n",
    "\n",
    "# Gözlem birimlerinde 0 olan degiskenlerin her birisine gidip 0 iceren gozlem degerlerini NaN ile değiştirdik.\n",
    "for col in zero_columns:\n",
    "    df[col] = np.where(df[col] == 0, np.nan, df[col])"
   ]
  },
  {
   "cell_type": "code",
   "execution_count": 8,
   "id": "0914bb21",
   "metadata": {
    "execution": {
     "iopub.execute_input": "2025-03-01T14:56:07.897274Z",
     "iopub.status.busy": "2025-03-01T14:56:07.896882Z",
     "iopub.status.idle": "2025-03-01T14:56:07.915725Z",
     "shell.execute_reply": "2025-03-01T14:56:07.914266Z"
    },
    "papermill": {
     "duration": 0.031814,
     "end_time": "2025-03-01T14:56:07.918189",
     "exception": false,
     "start_time": "2025-03-01T14:56:07.886375",
     "status": "completed"
    },
    "tags": []
   },
   "outputs": [
    {
     "name": "stdout",
     "output_type": "stream",
     "text": [
      "               eksikdeğer  ratio\n",
      "Insulin               374 48.700\n",
      "SkinThickness         227 29.560\n",
      "BloodPressure          35  4.560\n",
      "BMI                    11  1.430\n",
      "Glucose                 5  0.650\n"
     ]
    }
   ],
   "source": [
    "\n",
    "# Eksik Gözlem Analizi\n",
    "df.isnull().sum()\n",
    "\n",
    "def missing_values_table(dataframe, na_name=False):\n",
    "    na_columns = [col for col in dataframe.columns if dataframe[col].isnull().sum() > 0]\n",
    "    n_miss = dataframe[na_columns].isnull().sum().sort_values(ascending=False)\n",
    "    ratio = (dataframe[na_columns].isnull().sum() / dataframe.shape[0] * 100).sort_values(ascending=False)\n",
    "    missing_df = pd.concat([n_miss, np.round(ratio, 2)], axis=1, keys=['eksikdeğer', 'ratio'])\n",
    "    print(missing_df, end=\"\\n\")\n",
    "    if na_name:\n",
    "        return na_columns\n",
    "\n",
    "na_columns = missing_values_table(df, na_name=True)"
   ]
  },
  {
   "cell_type": "code",
   "execution_count": 9,
   "id": "f03dfa6c",
   "metadata": {
    "execution": {
     "iopub.execute_input": "2025-03-01T14:56:07.939111Z",
     "iopub.status.busy": "2025-03-01T14:56:07.938113Z",
     "iopub.status.idle": "2025-03-01T14:56:07.952573Z",
     "shell.execute_reply": "2025-03-01T14:56:07.951503Z"
    },
    "papermill": {
     "duration": 0.027083,
     "end_time": "2025-03-01T14:56:07.954701",
     "exception": false,
     "start_time": "2025-03-01T14:56:07.927618",
     "status": "completed"
    },
    "tags": []
   },
   "outputs": [
    {
     "data": {
      "text/plain": [
       "Pregnancies                 0\n",
       "Glucose                     0\n",
       "BloodPressure               0\n",
       "SkinThickness               0\n",
       "Insulin                     0\n",
       "BMI                         0\n",
       "DiabetesPedigreeFunction    0\n",
       "Age                         0\n",
       "Outcome                     0\n",
       "dtype: int64"
      ]
     },
     "execution_count": 9,
     "metadata": {},
     "output_type": "execute_result"
    }
   ],
   "source": [
    "# Eksik Değerlerin Doldurulması\n",
    "for col in zero_columns:\n",
    "    df.loc[df[col].isnull(), col] = df[col].median()\n",
    "\n",
    "\n",
    "df.isnull().sum()"
   ]
  },
  {
   "cell_type": "code",
   "execution_count": 10,
   "id": "1bdcd0c6",
   "metadata": {
    "execution": {
     "iopub.execute_input": "2025-03-01T14:56:07.975750Z",
     "iopub.status.busy": "2025-03-01T14:56:07.974875Z",
     "iopub.status.idle": "2025-03-01T14:56:07.987195Z",
     "shell.execute_reply": "2025-03-01T14:56:07.986018Z"
    },
    "papermill": {
     "duration": 0.0253,
     "end_time": "2025-03-01T14:56:07.989370",
     "exception": false,
     "start_time": "2025-03-01T14:56:07.964070",
     "status": "completed"
    },
    "tags": []
   },
   "outputs": [
    {
     "name": "stdout",
     "output_type": "stream",
     "text": [
      "<class 'pandas.core.frame.DataFrame'>\n",
      "RangeIndex: 768 entries, 0 to 767\n",
      "Data columns (total 9 columns):\n",
      " #   Column                    Non-Null Count  Dtype  \n",
      "---  ------                    --------------  -----  \n",
      " 0   Pregnancies               768 non-null    int64  \n",
      " 1   Glucose                   768 non-null    float64\n",
      " 2   BloodPressure             768 non-null    float64\n",
      " 3   SkinThickness             768 non-null    float64\n",
      " 4   Insulin                   768 non-null    float64\n",
      " 5   BMI                       768 non-null    float64\n",
      " 6   DiabetesPedigreeFunction  768 non-null    float64\n",
      " 7   Age                       768 non-null    int64  \n",
      " 8   Outcome                   768 non-null    int64  \n",
      "dtypes: float64(6), int64(3)\n",
      "memory usage: 54.1 KB\n"
     ]
    }
   ],
   "source": [
    "df.info()"
   ]
  },
  {
   "cell_type": "markdown",
   "id": "378d6393",
   "metadata": {
    "papermill": {
     "duration": 0.009065,
     "end_time": "2025-03-01T14:56:08.007977",
     "exception": false,
     "start_time": "2025-03-01T14:56:07.998912",
     "status": "completed"
    },
    "tags": []
   },
   "source": [
    "\n",
    "##################################\n",
    "# AYKIRI DEĞER ANALİZİ\n",
    "##################################"
   ]
  },
  {
   "cell_type": "code",
   "execution_count": 11,
   "id": "bf149a45",
   "metadata": {
    "execution": {
     "iopub.execute_input": "2025-03-01T14:56:08.028615Z",
     "iopub.status.busy": "2025-03-01T14:56:08.028142Z",
     "iopub.status.idle": "2025-03-01T14:56:08.036530Z",
     "shell.execute_reply": "2025-03-01T14:56:08.035489Z"
    },
    "papermill": {
     "duration": 0.021305,
     "end_time": "2025-03-01T14:56:08.038644",
     "exception": false,
     "start_time": "2025-03-01T14:56:08.017339",
     "status": "completed"
    },
    "tags": []
   },
   "outputs": [],
   "source": [
    "def outlier_thresholds(dataframe, col_name, q1=0.05, q3=0.95):\n",
    "    quartile1 = dataframe[col_name].quantile(q1)\n",
    "    quartile3 = dataframe[col_name].quantile(q3)\n",
    "    interquantile_range = quartile3 - quartile1\n",
    "    up_limit = quartile3 + 1.5 * interquantile_range\n",
    "    low_limit = quartile1 - 1.5 * interquantile_range\n",
    "    return low_limit, up_limit\n",
    "\n",
    "def check_outlier(dataframe, col_name):\n",
    "    low_limit, up_limit = outlier_thresholds(dataframe, col_name)\n",
    "    if dataframe[(dataframe[col_name] > up_limit) | (dataframe[col_name] < low_limit)].any(axis=None):\n",
    "        return True\n",
    "    else:\n",
    "        return False\n",
    "\n",
    "def replace_with_thresholds(dataframe, variable, q1=0.05, q3=0.95):\n",
    "    low_limit, up_limit = outlier_thresholds(dataframe, variable, q1=0.05, q3=0.95)\n",
    "    dataframe.loc[(dataframe[variable] < low_limit), variable] = low_limit\n",
    "    dataframe.loc[(dataframe[variable] > up_limit), variable] = up_limit\n",
    "\n"
   ]
  },
  {
   "cell_type": "code",
   "execution_count": 12,
   "id": "b10f9f67",
   "metadata": {
    "execution": {
     "iopub.execute_input": "2025-03-01T14:56:08.059361Z",
     "iopub.status.busy": "2025-03-01T14:56:08.058936Z",
     "iopub.status.idle": "2025-03-01T14:56:08.132978Z",
     "shell.execute_reply": "2025-03-01T14:56:08.131685Z"
    },
    "papermill": {
     "duration": 0.087002,
     "end_time": "2025-03-01T14:56:08.135141",
     "exception": false,
     "start_time": "2025-03-01T14:56:08.048139",
     "status": "completed"
    },
    "tags": []
   },
   "outputs": [
    {
     "name": "stdout",
     "output_type": "stream",
     "text": [
      "Pregnancies False\n",
      "Glucose False\n",
      "BloodPressure False\n",
      "SkinThickness True\n",
      "Insulin True\n",
      "BMI False\n",
      "DiabetesPedigreeFunction False\n",
      "Age False\n",
      "Outcome False\n",
      "################################################\n",
      "Pregnancies False\n",
      "Glucose False\n",
      "BloodPressure False\n",
      "SkinThickness False\n",
      "Insulin False\n",
      "BMI False\n",
      "DiabetesPedigreeFunction False\n",
      "Age False\n",
      "Outcome False\n"
     ]
    }
   ],
   "source": [
    "# Aykırı Değer Analizi ve Baskılama İşlemi\n",
    "for col in df.columns:\n",
    "    print(col, check_outlier(df, col))\n",
    "    if check_outlier(df, col):\n",
    "        replace_with_thresholds(df, col)\n",
    "print(\"################################################\")\n",
    "for col in df.columns:\n",
    "    print(col, check_outlier(df, col))\n",
    "\n"
   ]
  },
  {
   "cell_type": "code",
   "execution_count": 13,
   "id": "7563f29c",
   "metadata": {
    "execution": {
     "iopub.execute_input": "2025-03-01T14:56:08.155935Z",
     "iopub.status.busy": "2025-03-01T14:56:08.155169Z",
     "iopub.status.idle": "2025-03-01T14:56:08.167188Z",
     "shell.execute_reply": "2025-03-01T14:56:08.166006Z"
    },
    "papermill": {
     "duration": 0.025031,
     "end_time": "2025-03-01T14:56:08.169655",
     "exception": false,
     "start_time": "2025-03-01T14:56:08.144624",
     "status": "completed"
    },
    "tags": []
   },
   "outputs": [
    {
     "name": "stdout",
     "output_type": "stream",
     "text": [
      "<class 'pandas.core.frame.DataFrame'>\n",
      "RangeIndex: 768 entries, 0 to 767\n",
      "Data columns (total 9 columns):\n",
      " #   Column                    Non-Null Count  Dtype  \n",
      "---  ------                    --------------  -----  \n",
      " 0   Pregnancies               768 non-null    int64  \n",
      " 1   Glucose                   768 non-null    float64\n",
      " 2   BloodPressure             768 non-null    float64\n",
      " 3   SkinThickness             768 non-null    float64\n",
      " 4   Insulin                   768 non-null    float64\n",
      " 5   BMI                       768 non-null    float64\n",
      " 6   DiabetesPedigreeFunction  768 non-null    float64\n",
      " 7   Age                       768 non-null    int64  \n",
      " 8   Outcome                   768 non-null    int64  \n",
      "dtypes: float64(6), int64(3)\n",
      "memory usage: 54.1 KB\n"
     ]
    }
   ],
   "source": [
    "df.info()"
   ]
  },
  {
   "cell_type": "markdown",
   "id": "220b9213",
   "metadata": {
    "papermill": {
     "duration": 0.009468,
     "end_time": "2025-03-01T14:56:08.188669",
     "exception": false,
     "start_time": "2025-03-01T14:56:08.179201",
     "status": "completed"
    },
    "tags": []
   },
   "source": [
    "##################################\n",
    "# ÖZELLİK ÇIKARIMI\n",
    "##################################\n"
   ]
  },
  {
   "cell_type": "code",
   "execution_count": 14,
   "id": "a9ff8f8b",
   "metadata": {
    "execution": {
     "iopub.execute_input": "2025-03-01T14:56:08.209652Z",
     "iopub.status.busy": "2025-03-01T14:56:08.209231Z",
     "iopub.status.idle": "2025-03-01T14:56:08.235452Z",
     "shell.execute_reply": "2025-03-01T14:56:08.234322Z"
    },
    "papermill": {
     "duration": 0.039402,
     "end_time": "2025-03-01T14:56:08.237613",
     "exception": false,
     "start_time": "2025-03-01T14:56:08.198211",
     "status": "completed"
    },
    "tags": []
   },
   "outputs": [
    {
     "data": {
      "text/html": [
       "<div>\n",
       "<style scoped>\n",
       "    .dataframe tbody tr th:only-of-type {\n",
       "        vertical-align: middle;\n",
       "    }\n",
       "\n",
       "    .dataframe tbody tr th {\n",
       "        vertical-align: top;\n",
       "    }\n",
       "\n",
       "    .dataframe thead th {\n",
       "        text-align: right;\n",
       "    }\n",
       "</style>\n",
       "<table border=\"1\" class=\"dataframe\">\n",
       "  <thead>\n",
       "    <tr style=\"text-align: right;\">\n",
       "      <th></th>\n",
       "      <th>Pregnancies</th>\n",
       "      <th>Glucose</th>\n",
       "      <th>BloodPressure</th>\n",
       "      <th>SkinThickness</th>\n",
       "      <th>Insulin</th>\n",
       "      <th>BMI</th>\n",
       "      <th>DiabetesPedigreeFunction</th>\n",
       "      <th>Age</th>\n",
       "      <th>Outcome</th>\n",
       "      <th>age_group</th>\n",
       "      <th>BMI_Category</th>\n",
       "      <th>Pregnancy_Category</th>\n",
       "    </tr>\n",
       "  </thead>\n",
       "  <tbody>\n",
       "    <tr>\n",
       "      <th>0</th>\n",
       "      <td>6</td>\n",
       "      <td>148.000</td>\n",
       "      <td>72.000</td>\n",
       "      <td>35.000</td>\n",
       "      <td>125.000</td>\n",
       "      <td>33.600</td>\n",
       "      <td>0.627</td>\n",
       "      <td>50</td>\n",
       "      <td>1</td>\n",
       "      <td>Çalışan Nüfus</td>\n",
       "      <td>Obesite</td>\n",
       "      <td>7+</td>\n",
       "    </tr>\n",
       "    <tr>\n",
       "      <th>1</th>\n",
       "      <td>1</td>\n",
       "      <td>85.000</td>\n",
       "      <td>66.000</td>\n",
       "      <td>29.000</td>\n",
       "      <td>125.000</td>\n",
       "      <td>26.600</td>\n",
       "      <td>0.351</td>\n",
       "      <td>31</td>\n",
       "      <td>0</td>\n",
       "      <td>Çalışan Nüfus</td>\n",
       "      <td>Fazla Kilolu</td>\n",
       "      <td>1-3</td>\n",
       "    </tr>\n",
       "    <tr>\n",
       "      <th>2</th>\n",
       "      <td>8</td>\n",
       "      <td>183.000</td>\n",
       "      <td>64.000</td>\n",
       "      <td>29.000</td>\n",
       "      <td>125.000</td>\n",
       "      <td>23.300</td>\n",
       "      <td>0.672</td>\n",
       "      <td>32</td>\n",
       "      <td>1</td>\n",
       "      <td>Çalışan Nüfus</td>\n",
       "      <td>Normal</td>\n",
       "      <td>7+</td>\n",
       "    </tr>\n",
       "    <tr>\n",
       "      <th>3</th>\n",
       "      <td>1</td>\n",
       "      <td>89.000</td>\n",
       "      <td>66.000</td>\n",
       "      <td>23.000</td>\n",
       "      <td>94.000</td>\n",
       "      <td>28.100</td>\n",
       "      <td>0.167</td>\n",
       "      <td>21</td>\n",
       "      <td>0</td>\n",
       "      <td>Çalışan Nüfus</td>\n",
       "      <td>Fazla Kilolu</td>\n",
       "      <td>1-3</td>\n",
       "    </tr>\n",
       "    <tr>\n",
       "      <th>4</th>\n",
       "      <td>0</td>\n",
       "      <td>137.000</td>\n",
       "      <td>40.000</td>\n",
       "      <td>35.000</td>\n",
       "      <td>168.000</td>\n",
       "      <td>43.100</td>\n",
       "      <td>2.288</td>\n",
       "      <td>33</td>\n",
       "      <td>1</td>\n",
       "      <td>Çalışan Nüfus</td>\n",
       "      <td>Obesite</td>\n",
       "      <td>0</td>\n",
       "    </tr>\n",
       "  </tbody>\n",
       "</table>\n",
       "</div>"
      ],
      "text/plain": [
       "   Pregnancies  Glucose  BloodPressure  SkinThickness  Insulin    BMI  \\\n",
       "0            6  148.000         72.000         35.000  125.000 33.600   \n",
       "1            1   85.000         66.000         29.000  125.000 26.600   \n",
       "2            8  183.000         64.000         29.000  125.000 23.300   \n",
       "3            1   89.000         66.000         23.000   94.000 28.100   \n",
       "4            0  137.000         40.000         35.000  168.000 43.100   \n",
       "\n",
       "   DiabetesPedigreeFunction  Age  Outcome      age_group  BMI_Category  \\\n",
       "0                     0.627   50        1  Çalışan Nüfus       Obesite   \n",
       "1                     0.351   31        0  Çalışan Nüfus  Fazla Kilolu   \n",
       "2                     0.672   32        1  Çalışan Nüfus        Normal   \n",
       "3                     0.167   21        0  Çalışan Nüfus  Fazla Kilolu   \n",
       "4                     2.288   33        1  Çalışan Nüfus       Obesite   \n",
       "\n",
       "  Pregnancy_Category  \n",
       "0                 7+  \n",
       "1                1-3  \n",
       "2                 7+  \n",
       "3                1-3  \n",
       "4                  0  "
      ]
     },
     "execution_count": 14,
     "metadata": {},
     "output_type": "execute_result"
    }
   ],
   "source": [
    "\n",
    "# Yaş grubunu belirleme fonksiyonu\n",
    "\n",
    "df['age_group'] = pd.cut(df['Age'], bins=[0, 14,65,100], labels=['Çocuk', 'Çalışan Nüfus', 'Yaşlı'])\n",
    "df.groupby(\"age_group\")[\"Outcome\"].mean()\n",
    "\n",
    "\n",
    "\n",
    "# BMI'ye göre kategoriler oluşturma\n",
    "df['BMI_Category'] = pd.cut(df['BMI'], bins=[0, 18.5, 24.9, 29.9, 100], labels=['Zayıf', 'Normal', 'Fazla Kilolu', 'Obesite'])\n",
    "df.groupby(\"BMI_Category\")[\"Outcome\"].mean()\n",
    "\n",
    "# Gebelik sayısına göre kategoriler oluşturma\n",
    "df['Pregnancy_Category'] = pd.cut(df['Pregnancies'], \n",
    "                                  bins=[0, 1, 3, 6, np.inf], \n",
    "                                  labels=['0', '1-3', '4-6', '7+'], \n",
    "                                  right=False)  \n",
    "\n",
    "df.head()"
   ]
  },
  {
   "cell_type": "markdown",
   "id": "3f119cbb",
   "metadata": {
    "papermill": {
     "duration": 0.011838,
     "end_time": "2025-03-01T14:56:08.259557",
     "exception": false,
     "start_time": "2025-03-01T14:56:08.247719",
     "status": "completed"
    },
    "tags": []
   },
   "source": [
    "\n",
    "##################################\n",
    "# ENCODING\n",
    "##################################"
   ]
  },
  {
   "cell_type": "code",
   "execution_count": 15,
   "id": "665f731e",
   "metadata": {
    "execution": {
     "iopub.execute_input": "2025-03-01T14:56:08.281303Z",
     "iopub.status.busy": "2025-03-01T14:56:08.280884Z",
     "iopub.status.idle": "2025-03-01T14:56:08.290839Z",
     "shell.execute_reply": "2025-03-01T14:56:08.289631Z"
    },
    "papermill": {
     "duration": 0.023569,
     "end_time": "2025-03-01T14:56:08.293306",
     "exception": false,
     "start_time": "2025-03-01T14:56:08.269737",
     "status": "completed"
    },
    "tags": []
   },
   "outputs": [
    {
     "name": "stdout",
     "output_type": "stream",
     "text": [
      "Observations: 768\n",
      "Variables: 12\n",
      "cat_cols: 4\n",
      "num_cols: 8\n",
      "cat_but_car: 0\n",
      "num_but_cat: 4\n"
     ]
    }
   ],
   "source": [
    "cat_cols, num_cols, cat_but_car = grab_col_names(df)"
   ]
  },
  {
   "cell_type": "code",
   "execution_count": 16,
   "id": "ffc10bc6",
   "metadata": {
    "execution": {
     "iopub.execute_input": "2025-03-01T14:56:08.315375Z",
     "iopub.status.busy": "2025-03-01T14:56:08.314979Z",
     "iopub.status.idle": "2025-03-01T14:56:08.334758Z",
     "shell.execute_reply": "2025-03-01T14:56:08.333658Z"
    },
    "papermill": {
     "duration": 0.033101,
     "end_time": "2025-03-01T14:56:08.336888",
     "exception": false,
     "start_time": "2025-03-01T14:56:08.303787",
     "status": "completed"
    },
    "tags": []
   },
   "outputs": [
    {
     "data": {
      "text/html": [
       "<div>\n",
       "<style scoped>\n",
       "    .dataframe tbody tr th:only-of-type {\n",
       "        vertical-align: middle;\n",
       "    }\n",
       "\n",
       "    .dataframe tbody tr th {\n",
       "        vertical-align: top;\n",
       "    }\n",
       "\n",
       "    .dataframe thead th {\n",
       "        text-align: right;\n",
       "    }\n",
       "</style>\n",
       "<table border=\"1\" class=\"dataframe\">\n",
       "  <thead>\n",
       "    <tr style=\"text-align: right;\">\n",
       "      <th></th>\n",
       "      <th>Pregnancies</th>\n",
       "      <th>Glucose</th>\n",
       "      <th>BloodPressure</th>\n",
       "      <th>SkinThickness</th>\n",
       "      <th>Insulin</th>\n",
       "      <th>BMI</th>\n",
       "      <th>DiabetesPedigreeFunction</th>\n",
       "      <th>Age</th>\n",
       "      <th>Outcome</th>\n",
       "      <th>age_group</th>\n",
       "      <th>BMI_Category</th>\n",
       "      <th>Pregnancy_Category</th>\n",
       "    </tr>\n",
       "  </thead>\n",
       "  <tbody>\n",
       "    <tr>\n",
       "      <th>0</th>\n",
       "      <td>6</td>\n",
       "      <td>148.000</td>\n",
       "      <td>72.000</td>\n",
       "      <td>35.000</td>\n",
       "      <td>125.000</td>\n",
       "      <td>33.600</td>\n",
       "      <td>0.627</td>\n",
       "      <td>50</td>\n",
       "      <td>1</td>\n",
       "      <td>1</td>\n",
       "      <td>Obesite</td>\n",
       "      <td>7+</td>\n",
       "    </tr>\n",
       "    <tr>\n",
       "      <th>1</th>\n",
       "      <td>1</td>\n",
       "      <td>85.000</td>\n",
       "      <td>66.000</td>\n",
       "      <td>29.000</td>\n",
       "      <td>125.000</td>\n",
       "      <td>26.600</td>\n",
       "      <td>0.351</td>\n",
       "      <td>31</td>\n",
       "      <td>0</td>\n",
       "      <td>1</td>\n",
       "      <td>Fazla Kilolu</td>\n",
       "      <td>1-3</td>\n",
       "    </tr>\n",
       "    <tr>\n",
       "      <th>2</th>\n",
       "      <td>8</td>\n",
       "      <td>183.000</td>\n",
       "      <td>64.000</td>\n",
       "      <td>29.000</td>\n",
       "      <td>125.000</td>\n",
       "      <td>23.300</td>\n",
       "      <td>0.672</td>\n",
       "      <td>32</td>\n",
       "      <td>1</td>\n",
       "      <td>1</td>\n",
       "      <td>Normal</td>\n",
       "      <td>7+</td>\n",
       "    </tr>\n",
       "    <tr>\n",
       "      <th>3</th>\n",
       "      <td>1</td>\n",
       "      <td>89.000</td>\n",
       "      <td>66.000</td>\n",
       "      <td>23.000</td>\n",
       "      <td>94.000</td>\n",
       "      <td>28.100</td>\n",
       "      <td>0.167</td>\n",
       "      <td>21</td>\n",
       "      <td>0</td>\n",
       "      <td>1</td>\n",
       "      <td>Fazla Kilolu</td>\n",
       "      <td>1-3</td>\n",
       "    </tr>\n",
       "    <tr>\n",
       "      <th>4</th>\n",
       "      <td>0</td>\n",
       "      <td>137.000</td>\n",
       "      <td>40.000</td>\n",
       "      <td>35.000</td>\n",
       "      <td>168.000</td>\n",
       "      <td>43.100</td>\n",
       "      <td>2.288</td>\n",
       "      <td>33</td>\n",
       "      <td>1</td>\n",
       "      <td>1</td>\n",
       "      <td>Obesite</td>\n",
       "      <td>0</td>\n",
       "    </tr>\n",
       "  </tbody>\n",
       "</table>\n",
       "</div>"
      ],
      "text/plain": [
       "   Pregnancies  Glucose  BloodPressure  SkinThickness  Insulin    BMI  \\\n",
       "0            6  148.000         72.000         35.000  125.000 33.600   \n",
       "1            1   85.000         66.000         29.000  125.000 26.600   \n",
       "2            8  183.000         64.000         29.000  125.000 23.300   \n",
       "3            1   89.000         66.000         23.000   94.000 28.100   \n",
       "4            0  137.000         40.000         35.000  168.000 43.100   \n",
       "\n",
       "   DiabetesPedigreeFunction  Age  Outcome  age_group  BMI_Category  \\\n",
       "0                     0.627   50        1          1       Obesite   \n",
       "1                     0.351   31        0          1  Fazla Kilolu   \n",
       "2                     0.672   32        1          1        Normal   \n",
       "3                     0.167   21        0          1  Fazla Kilolu   \n",
       "4                     2.288   33        1          1       Obesite   \n",
       "\n",
       "  Pregnancy_Category  \n",
       "0                 7+  \n",
       "1                1-3  \n",
       "2                 7+  \n",
       "3                1-3  \n",
       "4                  0  "
      ]
     },
     "execution_count": 16,
     "metadata": {},
     "output_type": "execute_result"
    }
   ],
   "source": [
    "# 2 değişkeni olankalr için uygulanır.\n",
    "def label_encoder(dataframe, binary_cols):\n",
    "    labelencoder = LabelEncoder()\n",
    "    for binary_col in binary_cols:\n",
    "        dataframe[binary_col] = labelencoder.fit_transform(dataframe[binary_col])\n",
    "    return dataframe\n",
    "\n",
    "\n",
    "binary_cols = [col for col in df.columns if df[col].dtype != [[int, float]]\n",
    "               and df[col].nunique() == 2]\n",
    "label_encoder(df,binary_cols)\n",
    "df.head()"
   ]
  },
  {
   "cell_type": "code",
   "execution_count": 17,
   "id": "1fd5d9ba",
   "metadata": {
    "execution": {
     "iopub.execute_input": "2025-03-01T14:56:08.360096Z",
     "iopub.status.busy": "2025-03-01T14:56:08.359730Z",
     "iopub.status.idle": "2025-03-01T14:56:08.374458Z",
     "shell.execute_reply": "2025-03-01T14:56:08.373108Z"
    },
    "papermill": {
     "duration": 0.029475,
     "end_time": "2025-03-01T14:56:08.376868",
     "exception": false,
     "start_time": "2025-03-01T14:56:08.347393",
     "status": "completed"
    },
    "tags": []
   },
   "outputs": [
    {
     "name": "stdout",
     "output_type": "stream",
     "text": [
      "<class 'pandas.core.frame.DataFrame'>\n",
      "RangeIndex: 768 entries, 0 to 767\n",
      "Data columns (total 12 columns):\n",
      " #   Column                    Non-Null Count  Dtype   \n",
      "---  ------                    --------------  -----   \n",
      " 0   Pregnancies               768 non-null    int64   \n",
      " 1   Glucose                   768 non-null    float64 \n",
      " 2   BloodPressure             768 non-null    float64 \n",
      " 3   SkinThickness             768 non-null    float64 \n",
      " 4   Insulin                   768 non-null    float64 \n",
      " 5   BMI                       768 non-null    float64 \n",
      " 6   DiabetesPedigreeFunction  768 non-null    float64 \n",
      " 7   Age                       768 non-null    int64   \n",
      " 8   Outcome                   768 non-null    int64   \n",
      " 9   age_group                 768 non-null    int64   \n",
      " 10  BMI_Category              768 non-null    category\n",
      " 11  Pregnancy_Category        768 non-null    category\n",
      "dtypes: category(2), float64(6), int64(4)\n",
      "memory usage: 62.0 KB\n"
     ]
    }
   ],
   "source": [
    "df.info()"
   ]
  },
  {
   "cell_type": "code",
   "execution_count": 18,
   "id": "c2d672a0",
   "metadata": {
    "execution": {
     "iopub.execute_input": "2025-03-01T14:56:08.400322Z",
     "iopub.status.busy": "2025-03-01T14:56:08.399956Z",
     "iopub.status.idle": "2025-03-01T14:56:08.416271Z",
     "shell.execute_reply": "2025-03-01T14:56:08.415143Z"
    },
    "papermill": {
     "duration": 0.030268,
     "end_time": "2025-03-01T14:56:08.418396",
     "exception": false,
     "start_time": "2025-03-01T14:56:08.388128",
     "status": "completed"
    },
    "tags": []
   },
   "outputs": [
    {
     "data": {
      "text/html": [
       "<div>\n",
       "<style scoped>\n",
       "    .dataframe tbody tr th:only-of-type {\n",
       "        vertical-align: middle;\n",
       "    }\n",
       "\n",
       "    .dataframe tbody tr th {\n",
       "        vertical-align: top;\n",
       "    }\n",
       "\n",
       "    .dataframe thead th {\n",
       "        text-align: right;\n",
       "    }\n",
       "</style>\n",
       "<table border=\"1\" class=\"dataframe\">\n",
       "  <thead>\n",
       "    <tr style=\"text-align: right;\">\n",
       "      <th></th>\n",
       "      <th>Pregnancies</th>\n",
       "      <th>Glucose</th>\n",
       "      <th>BloodPressure</th>\n",
       "      <th>SkinThickness</th>\n",
       "      <th>Insulin</th>\n",
       "      <th>BMI</th>\n",
       "      <th>DiabetesPedigreeFunction</th>\n",
       "      <th>Age</th>\n",
       "      <th>Outcome</th>\n",
       "      <th>age_group</th>\n",
       "      <th>BMI_Category</th>\n",
       "      <th>Pregnancy_Category</th>\n",
       "    </tr>\n",
       "  </thead>\n",
       "  <tbody>\n",
       "    <tr>\n",
       "      <th>0</th>\n",
       "      <td>6</td>\n",
       "      <td>148.000</td>\n",
       "      <td>72.000</td>\n",
       "      <td>35.000</td>\n",
       "      <td>125.000</td>\n",
       "      <td>33.600</td>\n",
       "      <td>0.627</td>\n",
       "      <td>50</td>\n",
       "      <td>1</td>\n",
       "      <td>1</td>\n",
       "      <td>Obesite</td>\n",
       "      <td>3</td>\n",
       "    </tr>\n",
       "    <tr>\n",
       "      <th>1</th>\n",
       "      <td>1</td>\n",
       "      <td>85.000</td>\n",
       "      <td>66.000</td>\n",
       "      <td>29.000</td>\n",
       "      <td>125.000</td>\n",
       "      <td>26.600</td>\n",
       "      <td>0.351</td>\n",
       "      <td>31</td>\n",
       "      <td>0</td>\n",
       "      <td>1</td>\n",
       "      <td>Fazla Kilolu</td>\n",
       "      <td>1</td>\n",
       "    </tr>\n",
       "    <tr>\n",
       "      <th>2</th>\n",
       "      <td>8</td>\n",
       "      <td>183.000</td>\n",
       "      <td>64.000</td>\n",
       "      <td>29.000</td>\n",
       "      <td>125.000</td>\n",
       "      <td>23.300</td>\n",
       "      <td>0.672</td>\n",
       "      <td>32</td>\n",
       "      <td>1</td>\n",
       "      <td>1</td>\n",
       "      <td>Normal</td>\n",
       "      <td>3</td>\n",
       "    </tr>\n",
       "    <tr>\n",
       "      <th>3</th>\n",
       "      <td>1</td>\n",
       "      <td>89.000</td>\n",
       "      <td>66.000</td>\n",
       "      <td>23.000</td>\n",
       "      <td>94.000</td>\n",
       "      <td>28.100</td>\n",
       "      <td>0.167</td>\n",
       "      <td>21</td>\n",
       "      <td>0</td>\n",
       "      <td>1</td>\n",
       "      <td>Fazla Kilolu</td>\n",
       "      <td>1</td>\n",
       "    </tr>\n",
       "    <tr>\n",
       "      <th>4</th>\n",
       "      <td>0</td>\n",
       "      <td>137.000</td>\n",
       "      <td>40.000</td>\n",
       "      <td>35.000</td>\n",
       "      <td>168.000</td>\n",
       "      <td>43.100</td>\n",
       "      <td>2.288</td>\n",
       "      <td>33</td>\n",
       "      <td>1</td>\n",
       "      <td>1</td>\n",
       "      <td>Obesite</td>\n",
       "      <td>0</td>\n",
       "    </tr>\n",
       "  </tbody>\n",
       "</table>\n",
       "</div>"
      ],
      "text/plain": [
       "   Pregnancies  Glucose  BloodPressure  SkinThickness  Insulin    BMI  \\\n",
       "0            6  148.000         72.000         35.000  125.000 33.600   \n",
       "1            1   85.000         66.000         29.000  125.000 26.600   \n",
       "2            8  183.000         64.000         29.000  125.000 23.300   \n",
       "3            1   89.000         66.000         23.000   94.000 28.100   \n",
       "4            0  137.000         40.000         35.000  168.000 43.100   \n",
       "\n",
       "   DiabetesPedigreeFunction  Age  Outcome  age_group  BMI_Category  \\\n",
       "0                     0.627   50        1          1       Obesite   \n",
       "1                     0.351   31        0          1  Fazla Kilolu   \n",
       "2                     0.672   32        1          1        Normal   \n",
       "3                     0.167   21        0          1  Fazla Kilolu   \n",
       "4                     2.288   33        1          1       Obesite   \n",
       "\n",
       "   Pregnancy_Category  \n",
       "0                   3  \n",
       "1                   1  \n",
       "2                   3  \n",
       "3                   1  \n",
       "4                   0  "
      ]
     },
     "execution_count": 18,
     "metadata": {},
     "output_type": "execute_result"
    }
   ],
   "source": [
    "# 2'den fazla değişken mevcut fakat aralarında bir üstünlük mevcut. Hamilelik sayısısı arttıkça diabet olma riskide artmaktadır.\n",
    "le=LabelEncoder()\n",
    "df[\"Pregnancy_Category\"]=le.fit_transform(df[\"Pregnancy_Category\"])\n",
    "df.head()"
   ]
  },
  {
   "cell_type": "code",
   "execution_count": 19,
   "id": "dc0a6869",
   "metadata": {
    "execution": {
     "iopub.execute_input": "2025-03-01T14:56:08.441174Z",
     "iopub.status.busy": "2025-03-01T14:56:08.440816Z",
     "iopub.status.idle": "2025-03-01T14:56:08.460079Z",
     "shell.execute_reply": "2025-03-01T14:56:08.458944Z"
    },
    "papermill": {
     "duration": 0.033535,
     "end_time": "2025-03-01T14:56:08.462581",
     "exception": false,
     "start_time": "2025-03-01T14:56:08.429046",
     "status": "completed"
    },
    "tags": []
   },
   "outputs": [
    {
     "data": {
      "text/html": [
       "<div>\n",
       "<style scoped>\n",
       "    .dataframe tbody tr th:only-of-type {\n",
       "        vertical-align: middle;\n",
       "    }\n",
       "\n",
       "    .dataframe tbody tr th {\n",
       "        vertical-align: top;\n",
       "    }\n",
       "\n",
       "    .dataframe thead th {\n",
       "        text-align: right;\n",
       "    }\n",
       "</style>\n",
       "<table border=\"1\" class=\"dataframe\">\n",
       "  <thead>\n",
       "    <tr style=\"text-align: right;\">\n",
       "      <th></th>\n",
       "      <th>Pregnancies</th>\n",
       "      <th>Glucose</th>\n",
       "      <th>BloodPressure</th>\n",
       "      <th>SkinThickness</th>\n",
       "      <th>Insulin</th>\n",
       "      <th>BMI</th>\n",
       "      <th>DiabetesPedigreeFunction</th>\n",
       "      <th>Age</th>\n",
       "      <th>Outcome</th>\n",
       "      <th>age_group</th>\n",
       "      <th>Pregnancy_Category</th>\n",
       "      <th>BMI_Category_Normal</th>\n",
       "      <th>BMI_Category_Fazla Kilolu</th>\n",
       "      <th>BMI_Category_Obesite</th>\n",
       "    </tr>\n",
       "  </thead>\n",
       "  <tbody>\n",
       "    <tr>\n",
       "      <th>0</th>\n",
       "      <td>6</td>\n",
       "      <td>148.000</td>\n",
       "      <td>72.000</td>\n",
       "      <td>35.000</td>\n",
       "      <td>125.000</td>\n",
       "      <td>33.600</td>\n",
       "      <td>0.627</td>\n",
       "      <td>50</td>\n",
       "      <td>1</td>\n",
       "      <td>1</td>\n",
       "      <td>3</td>\n",
       "      <td>False</td>\n",
       "      <td>False</td>\n",
       "      <td>True</td>\n",
       "    </tr>\n",
       "    <tr>\n",
       "      <th>1</th>\n",
       "      <td>1</td>\n",
       "      <td>85.000</td>\n",
       "      <td>66.000</td>\n",
       "      <td>29.000</td>\n",
       "      <td>125.000</td>\n",
       "      <td>26.600</td>\n",
       "      <td>0.351</td>\n",
       "      <td>31</td>\n",
       "      <td>0</td>\n",
       "      <td>1</td>\n",
       "      <td>1</td>\n",
       "      <td>False</td>\n",
       "      <td>True</td>\n",
       "      <td>False</td>\n",
       "    </tr>\n",
       "    <tr>\n",
       "      <th>2</th>\n",
       "      <td>8</td>\n",
       "      <td>183.000</td>\n",
       "      <td>64.000</td>\n",
       "      <td>29.000</td>\n",
       "      <td>125.000</td>\n",
       "      <td>23.300</td>\n",
       "      <td>0.672</td>\n",
       "      <td>32</td>\n",
       "      <td>1</td>\n",
       "      <td>1</td>\n",
       "      <td>3</td>\n",
       "      <td>True</td>\n",
       "      <td>False</td>\n",
       "      <td>False</td>\n",
       "    </tr>\n",
       "    <tr>\n",
       "      <th>3</th>\n",
       "      <td>1</td>\n",
       "      <td>89.000</td>\n",
       "      <td>66.000</td>\n",
       "      <td>23.000</td>\n",
       "      <td>94.000</td>\n",
       "      <td>28.100</td>\n",
       "      <td>0.167</td>\n",
       "      <td>21</td>\n",
       "      <td>0</td>\n",
       "      <td>1</td>\n",
       "      <td>1</td>\n",
       "      <td>False</td>\n",
       "      <td>True</td>\n",
       "      <td>False</td>\n",
       "    </tr>\n",
       "    <tr>\n",
       "      <th>4</th>\n",
       "      <td>0</td>\n",
       "      <td>137.000</td>\n",
       "      <td>40.000</td>\n",
       "      <td>35.000</td>\n",
       "      <td>168.000</td>\n",
       "      <td>43.100</td>\n",
       "      <td>2.288</td>\n",
       "      <td>33</td>\n",
       "      <td>1</td>\n",
       "      <td>1</td>\n",
       "      <td>0</td>\n",
       "      <td>False</td>\n",
       "      <td>False</td>\n",
       "      <td>True</td>\n",
       "    </tr>\n",
       "  </tbody>\n",
       "</table>\n",
       "</div>"
      ],
      "text/plain": [
       "   Pregnancies  Glucose  BloodPressure  SkinThickness  Insulin    BMI  \\\n",
       "0            6  148.000         72.000         35.000  125.000 33.600   \n",
       "1            1   85.000         66.000         29.000  125.000 26.600   \n",
       "2            8  183.000         64.000         29.000  125.000 23.300   \n",
       "3            1   89.000         66.000         23.000   94.000 28.100   \n",
       "4            0  137.000         40.000         35.000  168.000 43.100   \n",
       "\n",
       "   DiabetesPedigreeFunction  Age  Outcome  age_group  Pregnancy_Category  \\\n",
       "0                     0.627   50        1          1                   3   \n",
       "1                     0.351   31        0          1                   1   \n",
       "2                     0.672   32        1          1                   3   \n",
       "3                     0.167   21        0          1                   1   \n",
       "4                     2.288   33        1          1                   0   \n",
       "\n",
       "   BMI_Category_Normal  BMI_Category_Fazla Kilolu  BMI_Category_Obesite  \n",
       "0                False                      False                  True  \n",
       "1                False                       True                 False  \n",
       "2                 True                      False                 False  \n",
       "3                False                       True                 False  \n",
       "4                False                      False                  True  "
      ]
     },
     "execution_count": 19,
     "metadata": {},
     "output_type": "execute_result"
    }
   ],
   "source": [
    "# 2'den fazla değişken var ve aralarında bir üstünlük olmadığı için one hot encoding işlemi yapılır.\n",
    "\n",
    "def one_hot_encoder(dataframe, categorical_cols, drop_first=False):\n",
    "    dataframe = pd.get_dummies(dataframe, columns=categorical_cols, drop_first=drop_first)\n",
    "    return dataframe\n",
    "df = one_hot_encoder(df, [\"BMI_Category\"], drop_first=True)\n",
    "\n",
    "\n",
    "df.head()\n"
   ]
  },
  {
   "cell_type": "markdown",
   "id": "30dc31bb",
   "metadata": {
    "papermill": {
     "duration": 0.010875,
     "end_time": "2025-03-01T14:56:08.484919",
     "exception": false,
     "start_time": "2025-03-01T14:56:08.474044",
     "status": "completed"
    },
    "tags": []
   },
   "source": [
    "##################################\n",
    "# STANDARTLAŞTIRMA\n",
    "##################################"
   ]
  },
  {
   "cell_type": "code",
   "execution_count": 20,
   "id": "17ecfc9a",
   "metadata": {
    "execution": {
     "iopub.execute_input": "2025-03-01T14:56:08.509032Z",
     "iopub.status.busy": "2025-03-01T14:56:08.508630Z",
     "iopub.status.idle": "2025-03-01T14:56:08.521152Z",
     "shell.execute_reply": "2025-03-01T14:56:08.519896Z"
    },
    "papermill": {
     "duration": 0.027532,
     "end_time": "2025-03-01T14:56:08.523833",
     "exception": false,
     "start_time": "2025-03-01T14:56:08.496301",
     "status": "completed"
    },
    "tags": []
   },
   "outputs": [],
   "source": [
    "num_cols\n",
    "\n",
    "scaler = MinMaxScaler()\n",
    "df[num_cols] = scaler.fit_transform(df[num_cols])\n",
    "\n"
   ]
  },
  {
   "cell_type": "code",
   "execution_count": 21,
   "id": "8e4ce8a1",
   "metadata": {
    "execution": {
     "iopub.execute_input": "2025-03-01T14:56:08.548028Z",
     "iopub.status.busy": "2025-03-01T14:56:08.547668Z",
     "iopub.status.idle": "2025-03-01T14:56:08.559336Z",
     "shell.execute_reply": "2025-03-01T14:56:08.557981Z"
    },
    "papermill": {
     "duration": 0.026193,
     "end_time": "2025-03-01T14:56:08.561758",
     "exception": false,
     "start_time": "2025-03-01T14:56:08.535565",
     "status": "completed"
    },
    "tags": []
   },
   "outputs": [
    {
     "name": "stdout",
     "output_type": "stream",
     "text": [
      "<class 'pandas.core.frame.DataFrame'>\n",
      "RangeIndex: 768 entries, 0 to 767\n",
      "Data columns (total 14 columns):\n",
      " #   Column                     Non-Null Count  Dtype  \n",
      "---  ------                     --------------  -----  \n",
      " 0   Pregnancies                768 non-null    float64\n",
      " 1   Glucose                    768 non-null    float64\n",
      " 2   BloodPressure              768 non-null    float64\n",
      " 3   SkinThickness              768 non-null    float64\n",
      " 4   Insulin                    768 non-null    float64\n",
      " 5   BMI                        768 non-null    float64\n",
      " 6   DiabetesPedigreeFunction   768 non-null    float64\n",
      " 7   Age                        768 non-null    float64\n",
      " 8   Outcome                    768 non-null    int64  \n",
      " 9   age_group                  768 non-null    int64  \n",
      " 10  Pregnancy_Category         768 non-null    int64  \n",
      " 11  BMI_Category_Normal        768 non-null    bool   \n",
      " 12  BMI_Category_Fazla Kilolu  768 non-null    bool   \n",
      " 13  BMI_Category_Obesite       768 non-null    bool   \n",
      "dtypes: bool(3), float64(8), int64(3)\n",
      "memory usage: 68.4 KB\n"
     ]
    }
   ],
   "source": [
    "df.info()"
   ]
  },
  {
   "cell_type": "code",
   "execution_count": 22,
   "id": "5408d4cf",
   "metadata": {
    "execution": {
     "iopub.execute_input": "2025-03-01T14:56:08.586640Z",
     "iopub.status.busy": "2025-03-01T14:56:08.586188Z",
     "iopub.status.idle": "2025-03-01T14:56:08.602965Z",
     "shell.execute_reply": "2025-03-01T14:56:08.601776Z"
    },
    "papermill": {
     "duration": 0.032348,
     "end_time": "2025-03-01T14:56:08.605165",
     "exception": false,
     "start_time": "2025-03-01T14:56:08.572817",
     "status": "completed"
    },
    "tags": []
   },
   "outputs": [
    {
     "data": {
      "text/html": [
       "<div>\n",
       "<style scoped>\n",
       "    .dataframe tbody tr th:only-of-type {\n",
       "        vertical-align: middle;\n",
       "    }\n",
       "\n",
       "    .dataframe tbody tr th {\n",
       "        vertical-align: top;\n",
       "    }\n",
       "\n",
       "    .dataframe thead th {\n",
       "        text-align: right;\n",
       "    }\n",
       "</style>\n",
       "<table border=\"1\" class=\"dataframe\">\n",
       "  <thead>\n",
       "    <tr style=\"text-align: right;\">\n",
       "      <th></th>\n",
       "      <th>Pregnancies</th>\n",
       "      <th>Glucose</th>\n",
       "      <th>BloodPressure</th>\n",
       "      <th>SkinThickness</th>\n",
       "      <th>Insulin</th>\n",
       "      <th>BMI</th>\n",
       "      <th>DiabetesPedigreeFunction</th>\n",
       "      <th>Age</th>\n",
       "      <th>Outcome</th>\n",
       "      <th>age_group</th>\n",
       "      <th>Pregnancy_Category</th>\n",
       "      <th>BMI_Category_Normal</th>\n",
       "      <th>BMI_Category_Fazla Kilolu</th>\n",
       "      <th>BMI_Category_Obesite</th>\n",
       "    </tr>\n",
       "  </thead>\n",
       "  <tbody>\n",
       "    <tr>\n",
       "      <th>0</th>\n",
       "      <td>0.353</td>\n",
       "      <td>0.671</td>\n",
       "      <td>0.490</td>\n",
       "      <td>0.344</td>\n",
       "      <td>0.172</td>\n",
       "      <td>0.315</td>\n",
       "      <td>0.234</td>\n",
       "      <td>0.483</td>\n",
       "      <td>1</td>\n",
       "      <td>1</td>\n",
       "      <td>3</td>\n",
       "      <td>False</td>\n",
       "      <td>False</td>\n",
       "      <td>True</td>\n",
       "    </tr>\n",
       "    <tr>\n",
       "      <th>1</th>\n",
       "      <td>0.059</td>\n",
       "      <td>0.265</td>\n",
       "      <td>0.429</td>\n",
       "      <td>0.270</td>\n",
       "      <td>0.172</td>\n",
       "      <td>0.172</td>\n",
       "      <td>0.117</td>\n",
       "      <td>0.167</td>\n",
       "      <td>0</td>\n",
       "      <td>1</td>\n",
       "      <td>1</td>\n",
       "      <td>False</td>\n",
       "      <td>True</td>\n",
       "      <td>False</td>\n",
       "    </tr>\n",
       "    <tr>\n",
       "      <th>2</th>\n",
       "      <td>0.471</td>\n",
       "      <td>0.897</td>\n",
       "      <td>0.408</td>\n",
       "      <td>0.270</td>\n",
       "      <td>0.172</td>\n",
       "      <td>0.104</td>\n",
       "      <td>0.254</td>\n",
       "      <td>0.183</td>\n",
       "      <td>1</td>\n",
       "      <td>1</td>\n",
       "      <td>3</td>\n",
       "      <td>True</td>\n",
       "      <td>False</td>\n",
       "      <td>False</td>\n",
       "    </tr>\n",
       "    <tr>\n",
       "      <th>3</th>\n",
       "      <td>0.059</td>\n",
       "      <td>0.290</td>\n",
       "      <td>0.429</td>\n",
       "      <td>0.196</td>\n",
       "      <td>0.124</td>\n",
       "      <td>0.202</td>\n",
       "      <td>0.038</td>\n",
       "      <td>0.000</td>\n",
       "      <td>0</td>\n",
       "      <td>1</td>\n",
       "      <td>1</td>\n",
       "      <td>False</td>\n",
       "      <td>True</td>\n",
       "      <td>False</td>\n",
       "    </tr>\n",
       "    <tr>\n",
       "      <th>4</th>\n",
       "      <td>0.000</td>\n",
       "      <td>0.600</td>\n",
       "      <td>0.163</td>\n",
       "      <td>0.344</td>\n",
       "      <td>0.239</td>\n",
       "      <td>0.509</td>\n",
       "      <td>0.944</td>\n",
       "      <td>0.200</td>\n",
       "      <td>1</td>\n",
       "      <td>1</td>\n",
       "      <td>0</td>\n",
       "      <td>False</td>\n",
       "      <td>False</td>\n",
       "      <td>True</td>\n",
       "    </tr>\n",
       "  </tbody>\n",
       "</table>\n",
       "</div>"
      ],
      "text/plain": [
       "   Pregnancies  Glucose  BloodPressure  SkinThickness  Insulin   BMI  \\\n",
       "0        0.353    0.671          0.490          0.344    0.172 0.315   \n",
       "1        0.059    0.265          0.429          0.270    0.172 0.172   \n",
       "2        0.471    0.897          0.408          0.270    0.172 0.104   \n",
       "3        0.059    0.290          0.429          0.196    0.124 0.202   \n",
       "4        0.000    0.600          0.163          0.344    0.239 0.509   \n",
       "\n",
       "   DiabetesPedigreeFunction   Age  Outcome  age_group  Pregnancy_Category  \\\n",
       "0                     0.234 0.483        1          1                   3   \n",
       "1                     0.117 0.167        0          1                   1   \n",
       "2                     0.254 0.183        1          1                   3   \n",
       "3                     0.038 0.000        0          1                   1   \n",
       "4                     0.944 0.200        1          1                   0   \n",
       "\n",
       "   BMI_Category_Normal  BMI_Category_Fazla Kilolu  BMI_Category_Obesite  \n",
       "0                False                      False                  True  \n",
       "1                False                       True                 False  \n",
       "2                 True                      False                 False  \n",
       "3                False                       True                 False  \n",
       "4                False                      False                  True  "
      ]
     },
     "execution_count": 22,
     "metadata": {},
     "output_type": "execute_result"
    }
   ],
   "source": [
    "df.head()"
   ]
  },
  {
   "cell_type": "markdown",
   "id": "b18cbd02",
   "metadata": {
    "papermill": {
     "duration": 0.010967,
     "end_time": "2025-03-01T14:56:08.627538",
     "exception": false,
     "start_time": "2025-03-01T14:56:08.616571",
     "status": "completed"
    },
    "tags": []
   },
   "source": [
    "12-Model Oluşturma"
   ]
  },
  {
   "cell_type": "code",
   "execution_count": 23,
   "id": "5bc81c38",
   "metadata": {
    "execution": {
     "iopub.execute_input": "2025-03-01T14:56:08.651972Z",
     "iopub.status.busy": "2025-03-01T14:56:08.651545Z",
     "iopub.status.idle": "2025-03-01T14:56:08.875998Z",
     "shell.execute_reply": "2025-03-01T14:56:08.874806Z"
    },
    "papermill": {
     "duration": 0.239387,
     "end_time": "2025-03-01T14:56:08.878204",
     "exception": false,
     "start_time": "2025-03-01T14:56:08.638817",
     "status": "completed"
    },
    "tags": []
   },
   "outputs": [
    {
     "name": "stdout",
     "output_type": "stream",
     "text": [
      "Accuracy: 0.7359307359307359\n"
     ]
    }
   ],
   "source": [
    "\n",
    "df=df.drop(columns=[\"Age\",\"BMI\",\"Pregnancies\"])\n",
    "y_train=df[\"Outcome\"]\n",
    "x_train=df.drop([\"Outcome\"],axis=1)\n",
    "X_train, X_test, y_train, y_test = train_test_split(x_train, y_train, test_size=0.30,random_state=42)\n",
    "\n",
    "from sklearn.ensemble import RandomForestClassifier\n",
    "\n",
    "\n",
    "# Random Forest modelini oluştur ve eğit\n",
    "rf_model = RandomForestClassifier(random_state=46)\n",
    "rf_model.fit(X_train, y_train)\n",
    "\n",
    "# Test seti üzerinde tahmin yap\n",
    "y_pred = rf_model.predict(X_test)\n",
    "\n",
    "\n",
    "\n",
    "print(f\"Accuracy: {(accuracy_score(y_pred, y_test))}\")\n",
    "\n"
   ]
  },
  {
   "cell_type": "markdown",
   "id": "1271e067",
   "metadata": {
    "papermill": {
     "duration": 0.010749,
     "end_time": "2025-03-01T14:56:08.900060",
     "exception": false,
     "start_time": "2025-03-01T14:56:08.889311",
     "status": "completed"
    },
    "tags": []
   },
   "source": [
    "\n",
    "##################################\n",
    "# FEATURE IMPORTANCE\n",
    "##################################\n",
    "\n"
   ]
  },
  {
   "cell_type": "code",
   "execution_count": 24,
   "id": "5911dc91",
   "metadata": {
    "execution": {
     "iopub.execute_input": "2025-03-01T14:56:08.923790Z",
     "iopub.status.busy": "2025-03-01T14:56:08.923366Z",
     "iopub.status.idle": "2025-03-01T14:56:09.471494Z",
     "shell.execute_reply": "2025-03-01T14:56:09.470507Z"
    },
    "papermill": {
     "duration": 0.562972,
     "end_time": "2025-03-01T14:56:09.474051",
     "exception": false,
     "start_time": "2025-03-01T14:56:08.911079",
     "status": "completed"
    },
    "tags": []
   },
   "outputs": [
    {
     "name": "stdout",
     "output_type": "stream",
     "text": [
      "   Value                    Feature\n",
      "0  0.347                    Glucose\n",
      "4  0.166   DiabetesPedigreeFunction\n",
      "3  0.122                    Insulin\n",
      "1  0.114              BloodPressure\n",
      "2  0.101              SkinThickness\n",
      "6  0.054         Pregnancy_Category\n",
      "9  0.053       BMI_Category_Obesite\n",
      "7  0.020        BMI_Category_Normal\n",
      "8  0.017  BMI_Category_Fazla Kilolu\n",
      "5  0.006                  age_group\n"
     ]
    },
    {
     "data": {
      "image/png": "[encoded data removed]",
      "text/plain": [
       "<Figure size 1000x1000 with 1 Axes>"
      ]
     },
     "metadata": {},
     "output_type": "display_data"
    }
   ],
   "source": [
    "def plot_importance(model, features, num=len(X_train), save=False):\n",
    "    feature_imp = pd.DataFrame({'Value': model.feature_importances_, 'Feature': features.columns})\n",
    "    print(feature_imp.sort_values(\"Value\",ascending=False))\n",
    "    plt.figure(figsize=(10, 10))\n",
    "    sns.set(font_scale=1)\n",
    "    sns.barplot(x=\"Value\", y=\"Feature\", data=feature_imp.sort_values(by=\"Value\",\n",
    "                                                                     ascending=False)[0:num])\n",
    "    plt.title('Features')\n",
    "    plt.tight_layout()\n",
    "    plt.show()\n",
    "    if save:\n",
    "        plt.savefig('importances.png')\n",
    "\n",
    "plot_importance(rf_model, X_train)"
   ]
  },
  {
   "cell_type": "markdown",
   "id": "323d5183",
   "metadata": {
    "papermill": {
     "duration": 0.011924,
     "end_time": "2025-03-01T14:56:09.498168",
     "exception": false,
     "start_time": "2025-03-01T14:56:09.486244",
     "status": "completed"
    },
    "tags": []
   },
   "source": []
  }
 ],
 "metadata": {
  "kaggle": {
   "accelerator": "none",
   "dataSources": [
    {
     "datasetId": 5826426,
     "sourceId": 9561036,
     "sourceType": "datasetVersion"
    }
   ],
   "dockerImageVersionId": 30786,
   "isGpuEnabled": false,
   "isInternetEnabled": true,
   "language": "python",
   "sourceType": "notebook"
  },
  "kernelspec": {
   "display_name": "Python 3",
   "language": "python",
   "name": "python3"
  },
  "language_info": {
   "codemirror_mode": {
    "name": "ipython",
    "version": 3
   },
   "file_extension": ".py",
   "mimetype": "text/x-python",
   "name": "python",
   "nbconvert_exporter": "python",
   "pygments_lexer": "ipython3",
   "version": "3.10.14"
  },
  "papermill": {
   "default_parameters": {},
   "duration": 10.020006,
   "end_time": "2025-03-01T14:56:10.233263",
   "environment_variables": {},
   "exception": null,
   "input_path": "__notebook__.ipynb",
   "output_path": "__notebook__.ipynb",
   "parameters": {},
   "start_time": "2025-03-01T14:56:00.213257",
   "version": "2.6.0"
  }
 },
 "nbformat": 4,
 "nbformat_minor": 5
}
